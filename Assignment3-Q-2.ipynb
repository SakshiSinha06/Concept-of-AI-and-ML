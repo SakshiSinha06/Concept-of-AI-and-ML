{
 "cells": [
  {
   "cell_type": "markdown",
   "metadata": {},
   "source": [
    "# Assignment 3: Implementation, Analysis, Performance Evaluation and Comparison of Deep Convolutional Neural Networks for Image Classification\n",
    "\n",
    "**Objective:** The objective of this assignment is to implement a deep convolutional neural network (CNN) for the identification of flower types. The provided dataset consists of five classes of flowers, namely chamomile, tulip, rose, sunflower, and dandelion. \n",
    "\n",
    "**Tasks:**\n",
    "To complete this assignment, please submit a single notebook that includes the implementation and outputs of the following seven steps.\n",
    "Provide answers for each sub-question by thorough analysis and extensive experimental investigation using the provided dataset. In other words, your answers should be backed by experimental analysis of your models and the dataset. Please ensure that the notebook retain the outputs. Failure to do so will result in zero marks for the corresponding steps in which no output is displayed."
   ]
  },
  {
   "cell_type": "markdown",
   "metadata": {},
   "source": [
    "**1. Prepare and Preprocess the data. (15 points)**\n",
    "\n",
    "* What is the total number of images in the dataset, and how are they distributed across the five flower types?\n",
    "\n",
    "* Do we need to implement techniques to balance the distribution of images across various flower types, such as oversampling or undersampling?\n",
    "\n",
    "* What are the dimensions (height and width) of the images in the dataset, and is there any variation among different flower types?\n",
    "\n",
    "* What preprocessing techniques should be applied, such as resizing, normalization or standardization and why?\n",
    "\n",
    "* How would you split the dataset into training, validation and testing sets, and in what ratios?\n"
   ]
  },
  {
   "cell_type": "code",
   "execution_count": 1,
   "metadata": {},
   "outputs": [],
   "source": [
    "#Step 1 implementation\n",
    "#Hint: Take the help of split-folder python library\n",
    "import tensorflow as tf\n",
    "import keras\n",
    "import pandas as pd\n",
    "import os\n",
    "import cv2\n",
    "# from skimage import io\n",
    "import random\n",
    "import numpy as np\n",
    "import matplotlib.pyplot as plt\n",
    "%matplotlib inline\n",
    "from sklearn.model_selection import train_test_split\n",
    "from sklearn.utils import resample\n",
    "# from imblearn.over_sampling import RandomOverSampler\n",
    "from tensorflow import keras\n",
    "from tensorflow.keras.models import Sequential\n",
    "from tensorflow.keras import layers, models,optimizers\n",
    "from tensorflow.keras.optimizers import Adam\n",
    "from tensorflow.keras.callbacks import EarlyStopping, ModelCheckpoint, TensorBoard\n",
    "from sklearn.metrics import accuracy_score, confusion_matrix, classification_report, ConfusionMatrixDisplay\n",
    "from sklearn.utils.class_weight import compute_class_weight\n",
    "from tensorflow.keras.layers import Conv2D, MaxPooling2D, Flatten, Dense, BatchNormalization, Activation\n",
    "from tensorflow.keras import regularizers\n",
    "from tensorflow.keras.models import load_model\n",
    "from tensorflow.keras.applications import VGG16\n",
    "from tensorflow.keras.preprocessing.image import ImageDataGenerator\n",
    "from tensorflow.keras.applications import ResNet50\n",
    "from keras.models import Model"
   ]
  },
  {
   "cell_type": "code",
   "execution_count": 3,
   "metadata": {},
   "outputs": [],
   "source": [
    "#Defining the ROOT_PATH and class_names\n",
    "ROOT_PATH = 'C:/Users/lenovo/Downloads/Assignment3/flowers'\n",
    "class_names = os.listdir(ROOT_PATH)"
   ]
  },
  {
   "cell_type": "code",
   "execution_count": 4,
   "metadata": {},
   "outputs": [],
   "source": [
    "'''The data is loaded and preprocessed to make the images data to similar dimensions by the below function'''\n",
    "# Function to load and preprocess images\n",
    "def load_and_preprocess_data(root_path, class_names):\n",
    "    X = []\n",
    "    y = []\n",
    "\n",
    "    code = {class_name: i for i, class_name in enumerate(class_names)}\n",
    "\n",
    "    for class_name in class_names:\n",
    "        class_dir = os.path.join(root_path, class_name)\n",
    "        for image_file in os.listdir(class_dir):\n",
    "            image_path = os.path.join(class_dir, image_file)\n",
    "\n",
    "            # Add print statements for debugging\n",
    "#             print(f\"Processing image: {image_path}\")\n",
    "            \n",
    "            image = cv2.imread(image_path)\n",
    "            \n",
    "            # Check if image is loaded successfully\n",
    "            if image is None:\n",
    "                print(f\"Error loading image: {image_path}\")\n",
    "                continue\n",
    "            \n",
    "            image = cv2.resize(image, (224, 224))  # Resize to a common dimension\n",
    "            image = image / 255.0  # Normalize pixel values\n",
    "            X.append(image)\n",
    "            y.append(code[class_name])\n",
    "\n",
    "    return np.array(X), np.array(y), code\n"
   ]
  },
  {
   "cell_type": "code",
   "execution_count": 27,
   "metadata": {},
   "outputs": [
    {
     "name": "stdout",
     "output_type": "stream",
     "text": [
      "\n",
      "Flower Type: daisy\n",
      "  Image 1: Width: 320, Height: 263\n",
      "  Image 2: Width: 500, Height: 313\n",
      "  Image 3: Width: 320, Height: 215\n",
      "  Image 4: Width: 500, Height: 333\n",
      "  Image 5: Width: 320, Height: 250\n",
      "\n",
      "Flower Type: dandelion\n",
      "  Image 1: Width: 320, Height: 213\n",
      "  Image 2: Width: 320, Height: 218\n",
      "  Image 3: Width: 180, Height: 240\n",
      "  Image 4: Width: 500, Height: 339\n",
      "  Image 5: Width: 180, Height: 240\n",
      "\n",
      "Flower Type: rose\n",
      "  Image 1: Width: 179, Height: 240\n",
      "  Image 2: Width: 320, Height: 240\n",
      "  Image 3: Width: 500, Height: 333\n",
      "  Image 4: Width: 320, Height: 231\n",
      "  Image 5: Width: 180, Height: 240\n",
      "\n",
      "Flower Type: sunflower\n",
      "  Image 1: Width: 500, Height: 330\n",
      "  Image 2: Width: 320, Height: 240\n",
      "  Image 3: Width: 320, Height: 240\n",
      "  Image 4: Width: 240, Height: 231\n",
      "  Image 5: Width: 213, Height: 240\n",
      "\n",
      "Flower Type: tulip\n",
      "  Image 1: Width: 320, Height: 209\n",
      "  Image 2: Width: 500, Height: 335\n",
      "  Image 3: Width: 500, Height: 335\n",
      "  Image 4: Width: 500, Height: 333\n",
      "  Image 5: Width: 320, Height: 214\n",
      "\n",
      "There are variations in dimensions for Flower Type daisy.\n",
      "\n",
      "There are variations in dimensions for Flower Type dandelion.\n",
      "\n",
      "There are variations in dimensions for Flower Type rose.\n",
      "\n",
      "There are variations in dimensions for Flower Type sunflower.\n",
      "\n",
      "There are variations in dimensions for Flower Type tulip.\n"
     ]
    }
   ],
   "source": [
    "'''Now lets check if our images are of similar dimensions or we need to use the above function to preprocess our image dataset.'''\n",
    "# Get a list of all image files\n",
    "all_images = [os.path.join(root, file) for root, dirs, files in os.walk(ROOT_PATH) for file in files]\n",
    "\n",
    "# Dictionary to store dimensions for each flower type\n",
    "dimensions_by_type = {}\n",
    "\n",
    "# Iterate over each image and extract dimensions\n",
    "for image_path in all_images:\n",
    "    # Extract flower type from file path\n",
    "    flower_type = image_path.split(os.path.sep)[-2]\n",
    "    \n",
    "    # Open the image and get its dimensions\n",
    "    with Image.open(image_path) as img:\n",
    "        width, height = img.size\n",
    "    \n",
    "    # Store dimensions in the dictionary\n",
    "    if flower_type not in dimensions_by_type:\n",
    "        dimensions_by_type[flower_type] = []\n",
    "    dimensions_by_type[flower_type].append((width, height))\n",
    "\n",
    "# Print dimensions of 5 images from each flower type\n",
    "for flower_type, dimensions_list in dimensions_by_type.items():\n",
    "    print(f\"\\nFlower Type: {flower_type}\")\n",
    "    for i in range(min(5, len(dimensions_list))):  # Print dimensions for up to 5 images\n",
    "        width, height = dimensions_list[i]\n",
    "        print(f\"  Image {i + 1}: Width: {width}, Height: {height}\")\n",
    "\n",
    "# Check for variations\n",
    "for flower_type, dimensions_list in dimensions_by_type.items():\n",
    "    unique_dimensions = set(dimensions_list)\n",
    "    if len(unique_dimensions) > 1:\n",
    "        print(f\"\\nThere are variations in dimensions for Flower Type {flower_type}.\")\n",
    "    else:\n",
    "        print(f\"All images of Flower Type {flower_type} have the same dimensions.\")"
   ]
  },
  {
   "cell_type": "code",
   "execution_count": 5,
   "metadata": {},
   "outputs": [
    {
     "name": "stdout",
     "output_type": "stream",
     "text": [
      "Total number of images: 4317\n",
      "Distribution per class: {'daisy': 764, 'dandelion': 1052, 'rose': 784, 'sunflower': 733, 'tulip': 984}\n"
     ]
    },
    {
     "data": {
      "image/png": "[encoded data removed]",
      "text/plain": [
       "<Figure size 600x400 with 1 Axes>"
      ]
     },
     "metadata": {},
     "output_type": "display_data"
    }
   ],
   "source": [
    "#Since there is variation in dimension of images we will use our function to Load and preprocess data\n",
    "X, y, code = load_and_preprocess_data(ROOT_PATH, class_names)\n",
    "\n",
    "# Check the total number of images and their distribution\n",
    "total_images = len(X)\n",
    "distribution_per_class = {class_name: np.sum(y == code[class_name]) for class_name in class_names}\n",
    "print(\"Total number of images:\", total_images)\n",
    "print(\"Distribution per class:\", distribution_per_class)\n",
    "\n",
    "\n",
    "# Create a bar plot\n",
    "plt.figure(figsize=(6, 4))\n",
    "plt.bar(distribution_per_class.keys(), distribution_per_class.values())\n",
    "plt.xlabel('Flower Type')\n",
    "\n",
    "plt.ylabel('Image Count')\n",
    "plt.title('Image Counts for Each Flower Type')\n",
    "plt.xticks(rotation=45)  # Rotate x-axis labels for better visibility\n",
    "\n",
    "plt.show()"
   ]
  },
  {
   "cell_type": "code",
   "execution_count": 5,
   "metadata": {},
   "outputs": [],
   "source": [
    "# We can see that the database is not balanced from the flower count, we can balance by using oversampling or undersampling \n",
    "# techniques.\n",
    "# but that is not working on my system so I have used the class_weights to increase the priority of classes containing less data."
   ]
  },
  {
   "cell_type": "code",
   "execution_count": 6,
   "metadata": {},
   "outputs": [
    {
     "name": "stdout",
     "output_type": "stream",
     "text": [
      "Image dimensions: (224, 224, 3)\n",
      "Training set size: 3021\n",
      "Validation set size: 648\n",
      "Testing set size: 648\n"
     ]
    }
   ],
   "source": [
    "# Split the dataset into training, validation, and testing sets by 70%, 15% and 15% ratio.\n",
    "X_train, X_temp, y_train, y_temp = train_test_split(X, y, test_size=0.3, random_state=42, stratify=y)\n",
    "X_val, X_test, y_val, y_test = train_test_split(X_temp, y_temp, test_size=0.5, random_state=42, stratify=y_temp)\n",
    "print(\"Image dimensions:\", X_train.shape[1:])\n",
    "print(\"Training set size:\", len(X_train))\n",
    "print(\"Validation set size:\", len(X_val))\n",
    "print(\"Testing set size:\", len(X_test))"
   ]
  },
  {
   "cell_type": "code",
   "execution_count": 7,
   "metadata": {},
   "outputs": [],
   "source": [
    "#Calculating class weight\n",
    "class_weights = compute_class_weight( class_weight = \"balanced\",\n",
    "                                        classes = np.unique(y_train),\n",
    "                                        y = y_train  )\n",
    "class_weight_dict = dict(zip(np.unique(y_train), class_weights))"
   ]
  },
  {
   "cell_type": "markdown",
   "metadata": {},
   "source": [
    "**2. Implement the given CNN architecture. Make necessary changes in the final layers for it to work on the number of classes in the given dataset. Use an input image size of $224 \\times 224 \\times 3$ (10 points)**\n",
    "<img src='CNN.png' alt='given CNN'>"
   ]
  },
  {
   "cell_type": "code",
   "execution_count": 9,
   "metadata": {},
   "outputs": [],
   "source": [
    "# # Create a sequential model\n",
    "# model = keras.Sequential([\n",
    "#     layers.Conv2D(64, (3, 3), activation='relu', padding='same', input_shape=(224, 224, 3)),\n",
    "#     layers.Conv2D(64, (3, 3), activation='relu', padding='same'),\n",
    "#     layers.MaxPooling2D((2, 2)),\n",
    "#     layers.Conv2D(128, (3, 3), activation='relu', padding='same'),\n",
    "#     layers.Conv2D(128, (3, 3), activation='relu', padding='same'),\n",
    "#     layers.MaxPooling2D((2, 2)),\n",
    "#     layers.Conv2D(256, (3, 3), activation='relu', padding='same'),\n",
    "#     layers.Conv2D(256, (3, 3), activation='relu', padding='same'),\n",
    "#     layers.Conv2D(256, (3, 3), activation='relu', padding='same'),\n",
    "#     layers.MaxPooling2D((2, 2)),\n",
    "#     layers.Conv2D(512, (3, 3), activation='relu', padding='same'),\n",
    "#     layers.Conv2D(512, (3, 3), activation='relu', padding='same'),\n",
    "#     layers.Conv2D(512, (3, 3), activation='relu', padding='same'),\n",
    "#     layers.MaxPooling2D((2, 2)),\n",
    "#     layers.Conv2D(512, (3, 3), activation='relu', padding='same'),\n",
    "#     layers.Conv2D(512, (3, 3), activation='relu', padding='same'),\n",
    "#     layers.Conv2D(512, (3, 3), activation='relu', padding='same'),\n",
    "#     layers.MaxPooling2D((2, 2)),\n",
    "#     layers.Flatten(),\n",
    "#     layers.Dense(4096, activation='relu'),\n",
    "#     layers.Dense(4096, activation='relu'),\n",
    "#     layers.Dense(4096, activation='relu'),\n",
    "#     layers.Dense(len(class_names), activation='softmax')  # Adjust the output units based on the number of classes\n",
    "# ])\n",
    "\n",
    "# Create a sequential model with Batch Normalization as the normal model without it is taking to long to converge and each epoch is taking\n",
    "# is taking 2 hrs to execute and still not giving good accuracy.\n",
    "model = keras.Sequential([\n",
    "    layers.Conv2D(64, (3, 3), activation='relu', padding='same', input_shape=(224, 224, 3)),\n",
    "    layers.BatchNormalization(),\n",
    "    layers.Conv2D(64, (3, 3), activation='relu', padding='same'),\n",
    "    layers.BatchNormalization(),\n",
    "    layers.MaxPooling2D((2, 2)),\n",
    "    layers.Conv2D(128, (3, 3), activation='relu', padding='same'),\n",
    "    layers.BatchNormalization(),\n",
    "    layers.Conv2D(128, (3, 3), activation='relu', padding='same'),\n",
    "    layers.BatchNormalization(),\n",
    "    layers.MaxPooling2D((2, 2)),\n",
    "    layers.Conv2D(256, (3, 3), activation='relu', padding='same'),\n",
    "    layers.BatchNormalization(),\n",
    "    layers.Conv2D(256, (3, 3), activation='relu', padding='same'),\n",
    "    layers.BatchNormalization(),\n",
    "    layers.Conv2D(256, (3, 3), activation='relu', padding='same'),\n",
    "    layers.BatchNormalization(),\n",
    "    layers.MaxPooling2D((2, 2)),\n",
    "    layers.Conv2D(512, (3, 3), activation='relu', padding='same'),\n",
    "    layers.BatchNormalization(),\n",
    "    layers.Conv2D(512, (3, 3), activation='relu', padding='same'),\n",
    "    layers.BatchNormalization(),\n",
    "    layers.Conv2D(512, (3, 3), activation='relu', padding='same'),\n",
    "    layers.BatchNormalization(),\n",
    "    layers.MaxPooling2D((2, 2)),\n",
    "    layers.Conv2D(512, (3, 3), activation='relu', padding='same'),\n",
    "    layers.BatchNormalization(),\n",
    "    layers.Conv2D(512, (3, 3), activation='relu', padding='same'),\n",
    "    layers.BatchNormalization(),\n",
    "    layers.Conv2D(512, (3, 3), activation='relu', padding='same'),\n",
    "    layers.BatchNormalization(),\n",
    "    layers.MaxPooling2D((2, 2)),\n",
    "    layers.Flatten(),\n",
    "    layers.Dense(4096, activation='relu'),\n",
    "    layers.BatchNormalization(),\n",
    "    layers.Dense(4096, activation='relu'),\n",
    "    layers.BatchNormalization(),\n",
    "    layers.Dense(4096, activation='relu'),\n",
    "    layers.BatchNormalization(),\n",
    "    layers.Dense(len(class_names), activation='softmax')  # Adjust the output units based on the number of classes\n",
    "])\n"
   ]
  },
  {
   "cell_type": "code",
   "execution_count": 10,
   "metadata": {},
   "outputs": [
    {
     "name": "stdout",
     "output_type": "stream",
     "text": [
      "Model: \"sequential\"\n",
      "_________________________________________________________________\n",
      " Layer (type)                Output Shape              Param #   \n",
      "=================================================================\n",
      " conv2d (Conv2D)             (None, 224, 224, 64)      1792      \n",
      "                                                                 \n",
      " batch_normalization (BatchN  (None, 224, 224, 64)     256       \n",
      " ormalization)                                                   \n",
      "                                                                 \n",
      " conv2d_1 (Conv2D)           (None, 224, 224, 64)      36928     \n",
      "                                                                 \n",
      " batch_normalization_1 (Batc  (None, 224, 224, 64)     256       \n",
      " hNormalization)                                                 \n",
      "                                                                 \n",
      " max_pooling2d (MaxPooling2D  (None, 112, 112, 64)     0         \n",
      " )                                                               \n",
      "                                                                 \n",
      " conv2d_2 (Conv2D)           (None, 112, 112, 128)     73856     \n",
      "                                                                 \n",
      " batch_normalization_2 (Batc  (None, 112, 112, 128)    512       \n",
      " hNormalization)                                                 \n",
      "                                                                 \n",
      " conv2d_3 (Conv2D)           (None, 112, 112, 128)     147584    \n",
      "                                                                 \n",
      " batch_normalization_3 (Batc  (None, 112, 112, 128)    512       \n",
      " hNormalization)                                                 \n",
      "                                                                 \n",
      " max_pooling2d_1 (MaxPooling  (None, 56, 56, 128)      0         \n",
      " 2D)                                                             \n",
      "                                                                 \n",
      " conv2d_4 (Conv2D)           (None, 56, 56, 256)       295168    \n",
      "                                                                 \n",
      " batch_normalization_4 (Batc  (None, 56, 56, 256)      1024      \n",
      " hNormalization)                                                 \n",
      "                                                                 \n",
      " conv2d_5 (Conv2D)           (None, 56, 56, 256)       590080    \n",
      "                                                                 \n",
      " batch_normalization_5 (Batc  (None, 56, 56, 256)      1024      \n",
      " hNormalization)                                                 \n",
      "                                                                 \n",
      " conv2d_6 (Conv2D)           (None, 56, 56, 256)       590080    \n",
      "                                                                 \n",
      " batch_normalization_6 (Batc  (None, 56, 56, 256)      1024      \n",
      " hNormalization)                                                 \n",
      "                                                                 \n",
      " max_pooling2d_2 (MaxPooling  (None, 28, 28, 256)      0         \n",
      " 2D)                                                             \n",
      "                                                                 \n",
      " conv2d_7 (Conv2D)           (None, 28, 28, 512)       1180160   \n",
      "                                                                 \n",
      " batch_normalization_7 (Batc  (None, 28, 28, 512)      2048      \n",
      " hNormalization)                                                 \n",
      "                                                                 \n",
      " conv2d_8 (Conv2D)           (None, 28, 28, 512)       2359808   \n",
      "                                                                 \n",
      " batch_normalization_8 (Batc  (None, 28, 28, 512)      2048      \n",
      " hNormalization)                                                 \n",
      "                                                                 \n",
      " conv2d_9 (Conv2D)           (None, 28, 28, 512)       2359808   \n",
      "                                                                 \n",
      " batch_normalization_9 (Batc  (None, 28, 28, 512)      2048      \n",
      " hNormalization)                                                 \n",
      "                                                                 \n",
      " max_pooling2d_3 (MaxPooling  (None, 14, 14, 512)      0         \n",
      " 2D)                                                             \n",
      "                                                                 \n",
      " conv2d_10 (Conv2D)          (None, 14, 14, 512)       2359808   \n",
      "                                                                 \n",
      " batch_normalization_10 (Bat  (None, 14, 14, 512)      2048      \n",
      " chNormalization)                                                \n",
      "                                                                 \n",
      " conv2d_11 (Conv2D)          (None, 14, 14, 512)       2359808   \n",
      "                                                                 \n",
      " batch_normalization_11 (Bat  (None, 14, 14, 512)      2048      \n",
      " chNormalization)                                                \n",
      "                                                                 \n",
      " conv2d_12 (Conv2D)          (None, 14, 14, 512)       2359808   \n",
      "                                                                 \n",
      " batch_normalization_12 (Bat  (None, 14, 14, 512)      2048      \n",
      " chNormalization)                                                \n",
      "                                                                 \n",
      " max_pooling2d_4 (MaxPooling  (None, 7, 7, 512)        0         \n",
      " 2D)                                                             \n",
      "                                                                 \n",
      " flatten (Flatten)           (None, 25088)             0         \n",
      "                                                                 \n",
      " dense (Dense)               (None, 4096)              102764544 \n",
      "                                                                 \n",
      " batch_normalization_13 (Bat  (None, 4096)             16384     \n",
      " chNormalization)                                                \n",
      "                                                                 \n",
      " dense_1 (Dense)             (None, 4096)              16781312  \n",
      "                                                                 \n",
      " batch_normalization_14 (Bat  (None, 4096)             16384     \n",
      " chNormalization)                                                \n",
      "                                                                 \n",
      " dense_2 (Dense)             (None, 4096)              16781312  \n",
      "                                                                 \n",
      " batch_normalization_15 (Bat  (None, 4096)             16384     \n",
      " chNormalization)                                                \n",
      "                                                                 \n",
      " dense_3 (Dense)             (None, 5)                 20485     \n",
      "                                                                 \n",
      "=================================================================\n",
      "Total params: 151,128,389\n",
      "Trainable params: 151,095,365\n",
      "Non-trainable params: 33,024\n",
      "_________________________________________________________________\n"
     ]
    }
   ],
   "source": [
    "# Compile the model\n",
    "model.compile(optimizer='adam',\n",
    "              loss='sparse_categorical_crossentropy',\n",
    "              metrics=['accuracy'])\n",
    "\n",
    "\n",
    "# Print the model summary\n",
    "model.summary()"
   ]
  },
  {
   "cell_type": "markdown",
   "metadata": {},
   "source": [
    "**3. Train the model. (15 Points)** \n",
    "\n",
    "* What is your approach for selecting the appropriate hyperparameters for the model training, such as the learning rate, number of epochs, batch size, and optimizer?\n",
    "\n",
    "* What methods do you use for monitoring the training progress and performance of the model and why?\n",
    "\n",
    "* What metrics would you prefer to measure the performance, such as accuracy, precision, recall, F1 score, or ROC-AUC and why?"
   ]
  },
  {
   "cell_type": "code",
   "execution_count": 11,
   "metadata": {},
   "outputs": [
    {
     "name": "stdout",
     "output_type": "stream",
     "text": [
      "Epoch 1/25\n",
      "95/95 [==============================] - 1955s 20s/step - loss: 2.7088 - accuracy: 0.3628 - val_loss: 14.5399 - val_accuracy: 0.2423\n",
      "Epoch 2/25\n",
      "95/95 [==============================] - 1923s 20s/step - loss: 1.4352 - accuracy: 0.4671 - val_loss: 3.7214 - val_accuracy: 0.2654\n",
      "Epoch 3/25\n",
      "95/95 [==============================] - 2961s 31s/step - loss: 1.3090 - accuracy: 0.5058 - val_loss: 3.9606 - val_accuracy: 0.2608\n",
      "Epoch 4/25\n",
      "95/95 [==============================] - 1985s 21s/step - loss: 1.3433 - accuracy: 0.5104 - val_loss: 1.8440 - val_accuracy: 0.4012\n",
      "Epoch 5/25\n",
      "95/95 [==============================] - 1927s 20s/step - loss: 1.2377 - accuracy: 0.5548 - val_loss: 1.3783 - val_accuracy: 0.5494\n",
      "Epoch 6/25\n",
      "95/95 [==============================] - 1922s 20s/step - loss: 1.1563 - accuracy: 0.5773 - val_loss: 1.2166 - val_accuracy: 0.5108\n",
      "Epoch 7/25\n",
      "95/95 [==============================] - 1924s 20s/step - loss: 1.2075 - accuracy: 0.5783 - val_loss: 1.1816 - val_accuracy: 0.5556\n",
      "Epoch 8/25\n",
      "95/95 [==============================] - 1926s 20s/step - loss: 1.1036 - accuracy: 0.6064 - val_loss: 1.0882 - val_accuracy: 0.5880\n",
      "Epoch 9/25\n",
      "95/95 [==============================] - 1922s 20s/step - loss: 1.1276 - accuracy: 0.6044 - val_loss: 1.2385 - val_accuracy: 0.5432\n",
      "Epoch 10/25\n",
      "95/95 [==============================] - 1928s 20s/step - loss: 1.1512 - accuracy: 0.5915 - val_loss: 1.5773 - val_accuracy: 0.5895\n",
      "Epoch 11/25\n",
      "95/95 [==============================] - 1924s 20s/step - loss: 1.0878 - accuracy: 0.6160 - val_loss: 1.3840 - val_accuracy: 0.5664\n",
      "Epoch 12/25\n",
      "95/95 [==============================] - 1922s 20s/step - loss: 0.9886 - accuracy: 0.6385 - val_loss: 0.9757 - val_accuracy: 0.5926\n",
      "Epoch 13/25\n",
      "95/95 [==============================] - 1921s 20s/step - loss: 1.1114 - accuracy: 0.6240 - val_loss: 2.8357 - val_accuracy: 0.4198\n",
      "Epoch 14/25\n",
      "95/95 [==============================] - 1923s 20s/step - loss: 1.0300 - accuracy: 0.6432 - val_loss: 2.3626 - val_accuracy: 0.4660\n",
      "Epoch 15/25\n",
      "95/95 [==============================] - 1925s 20s/step - loss: 1.0750 - accuracy: 0.6504 - val_loss: 1.0829 - val_accuracy: 0.6389\n",
      "Epoch 16/25\n",
      "95/95 [==============================] - 1926s 20s/step - loss: 0.9342 - accuracy: 0.6617 - val_loss: 1.1475 - val_accuracy: 0.5833\n",
      "Epoch 17/25\n",
      "95/95 [==============================] - 1925s 20s/step - loss: 1.0055 - accuracy: 0.6690 - val_loss: 3.3574 - val_accuracy: 0.5139\n",
      "Epoch 18/25\n",
      "95/95 [==============================] - 1927s 20s/step - loss: 0.9934 - accuracy: 0.6799 - val_loss: 1.1521 - val_accuracy: 0.6327\n",
      "Epoch 19/25\n",
      "95/95 [==============================] - 1926s 20s/step - loss: 0.9152 - accuracy: 0.6829 - val_loss: 1.6251 - val_accuracy: 0.6173\n",
      "Epoch 20/25\n",
      "95/95 [==============================] - 2008s 21s/step - loss: 0.9204 - accuracy: 0.6998 - val_loss: 1.4703 - val_accuracy: 0.5725\n",
      "Epoch 21/25\n",
      "95/95 [==============================] - 5241s 55s/step - loss: 0.8391 - accuracy: 0.7031 - val_loss: 2.4253 - val_accuracy: 0.6404\n",
      "Epoch 22/25\n",
      "95/95 [==============================] - 1946s 20s/step - loss: 0.8716 - accuracy: 0.7266 - val_loss: 2.2772 - val_accuracy: 0.3657\n",
      "Epoch 23/25\n",
      "95/95 [==============================] - 1939s 20s/step - loss: 0.7670 - accuracy: 0.7385 - val_loss: 1.3807 - val_accuracy: 0.6049\n",
      "Epoch 24/25\n",
      "95/95 [==============================] - 2028s 21s/step - loss: 0.8551 - accuracy: 0.7445 - val_loss: 2.0918 - val_accuracy: 0.4645\n",
      "Epoch 25/25\n",
      "95/95 [==============================] - 1928s 20s/step - loss: 0.8612 - accuracy: 0.7243 - val_loss: 2.1618 - val_accuracy: 0.4398\n"
     ]
    }
   ],
   "source": [
    "#Step 3 implementation\n",
    "epochs = 25\n",
    "history = model.fit(X_train, y_train, epochs=epochs, validation_data=(X_val, y_val), class_weight=class_weight_dict)"
   ]
  },
  {
   "cell_type": "code",
   "execution_count": 12,
   "metadata": {},
   "outputs": [],
   "source": [
    "#Saving the baseline model\n",
    "model.save('model.h5')"
   ]
  },
  {
   "cell_type": "code",
   "execution_count": 16,
   "metadata": {},
   "outputs": [],
   "source": [
    "from tensorflow.keras.models import load_model\n",
    "\n",
    "# Load the saved baseline model\n",
    "baseline_model = load_model('model.h5')"
   ]
  },
  {
   "cell_type": "code",
   "execution_count": 10,
   "metadata": {},
   "outputs": [
    {
     "name": "stdout",
     "output_type": "stream",
     "text": [
      "Epoch 1/5\n",
      "95/95 [==============================] - 1971s 21s/step - loss: 0.7882 - accuracy: 0.7392 - val_loss: 6.0265 - val_accuracy: 0.4707\n",
      "Epoch 2/5\n",
      "95/95 [==============================] - 2454s 26s/step - loss: 0.7029 - accuracy: 0.7580 - val_loss: 2.3622 - val_accuracy: 0.4491\n",
      "Epoch 3/5\n",
      "95/95 [==============================] - 1952s 21s/step - loss: 0.7074 - accuracy: 0.7683 - val_loss: 1.4318 - val_accuracy: 0.6111\n",
      "Epoch 4/5\n",
      "95/95 [==============================] - 1949s 21s/step - loss: 0.6557 - accuracy: 0.7898 - val_loss: 1.5626 - val_accuracy: 0.6065\n",
      "Epoch 5/5\n",
      "95/95 [==============================] - 2066s 22s/step - loss: 0.6923 - accuracy: 0.7663 - val_loss: 1.5675 - val_accuracy: 0.6389\n"
     ]
    }
   ],
   "source": [
    "#Training the model for additional 5 epochs\n",
    "history1 = baseline_model.fit(X_train, y_train, epochs=5, validation_data=(X_val, y_val), class_weight=class_weight_dict)"
   ]
  },
  {
   "cell_type": "code",
   "execution_count": 8,
   "metadata": {},
   "outputs": [],
   "source": [
    "#Saving the baseline model\n",
    "baseline_model.save('model1.h5')"
   ]
  },
  {
   "cell_type": "code",
   "execution_count": 9,
   "metadata": {},
   "outputs": [],
   "source": [
    "from tensorflow.keras.models import load_model\n",
    "\n",
    "# Load the saved baseline model\n",
    "baseline_model = load_model('model1.h5')"
   ]
  },
  {
   "cell_type": "code",
   "execution_count": null,
   "metadata": {},
   "outputs": [],
   "source": [
    "# history1 = baseline_model.fit(X_train, y_train, epochs=10, validation_data=(X_val, y_val), class_weight=class_weight_dict)"
   ]
  },
  {
   "cell_type": "markdown",
   "metadata": {},
   "source": [
    "**4. Report the results. (10 points)**\n",
    "\n",
    "* What is the final accuracy of the model on the validation set, and how does it compare to the training accuracy?\n",
    "\n",
    "* What is the confusion matrix for the model on the validation set, and which flower types are the most difficult to classify?\n",
    "\n",
    "* How does the model perform on individual flower types, and are there any particular images that the model struggles to classify?\n",
    "\n",
    "* What is the rough model complexity?\n",
    "\n",
    "* Is the model's large size contributing to any challenges or constraints in its performance on the given dataset.\n"
   ]
  },
  {
   "cell_type": "code",
   "execution_count": 16,
   "metadata": {},
   "outputs": [
    {
     "data": {
      "image/png": "[encoded data removed]",
      "text/plain": [
       "<Figure size 800x800 with 2 Axes>"
      ]
     },
     "metadata": {},
     "output_type": "display_data"
    }
   ],
   "source": [
    "# Traing set vs validation set on last 5 epochs\n",
    "acc = history1.history['accuracy']\n",
    "val_acc = history1.history['val_accuracy']\n",
    "\n",
    "loss = history1.history['loss']\n",
    "val_loss = history1.history['val_loss']\n",
    "epochs_range = range(5)\n",
    "\n",
    "plt.figure(figsize=(8, 8))\n",
    "plt.subplot(1, 2, 1)\n",
    "plt.plot(epochs_range, acc, label='Training Accuracy')\n",
    "plt.plot(epochs_range, val_acc, label='Validation Accuracy')\n",
    "plt.legend(loc='lower right')\n",
    "plt.title('Training and Validation Accuracy')\n",
    "\n",
    "plt.subplot(1, 2, 2)\n",
    "plt.plot(epochs_range, loss, label='Training Loss')\n",
    "plt.plot(epochs_range, val_loss, label='Validation Loss')\n",
    "plt.legend(loc='upper right')\n",
    "plt.title('Training and Validation Loss')\n",
    "plt.show()"
   ]
  },
  {
   "cell_type": "code",
   "execution_count": 13,
   "metadata": {},
   "outputs": [
    {
     "name": "stdout",
     "output_type": "stream",
     "text": [
      "21/21 [==============================] - 296s 14s/step\n",
      "Test Accuracy: 0.6388888888888888\n"
     ]
    }
   ],
   "source": [
    "# Evaluate the model on the validation set\n",
    "y_val_pred = baseline_model.predict(X_val)\n",
    "y_val_classes = np.argmax(y_val_pred, axis=1)\n",
    "\n",
    "# Calculate accuracy\n",
    "accuracy = accuracy_score(y_val, y_val_classes)\n",
    "print(f\"Test Accuracy: {accuracy}\")\n"
   ]
  },
  {
   "cell_type": "code",
   "execution_count": 14,
   "metadata": {},
   "outputs": [
    {
     "name": "stdout",
     "output_type": "stream",
     "text": [
      "\n",
      "Confusion Matrix for validation set:\n"
     ]
    },
    {
     "data": {
      "image/png": "[encoded data removed]",
      "text/plain": [
       "<Figure size 640x480 with 2 Axes>"
      ]
     },
     "metadata": {},
     "output_type": "display_data"
    },
    {
     "name": "stdout",
     "output_type": "stream",
     "text": [
      "Classification Report for validation set:\n",
      "              precision    recall  f1-score   support\n",
      "\n",
      "       daisy       0.58      0.82      0.68       114\n",
      "   dandelion       0.65      0.71      0.68       158\n",
      "        rose       0.52      0.55      0.53       118\n",
      "   sunflower       0.78      0.74      0.76       110\n",
      "       tulip       0.73      0.42      0.53       148\n",
      "\n",
      "    accuracy                           0.64       648\n",
      "   macro avg       0.65      0.65      0.64       648\n",
      "weighted avg       0.65      0.64      0.63       648\n",
      "\n"
     ]
    }
   ],
   "source": [
    "# Confusion matrix for validation set\n",
    "conf_matrix = confusion_matrix(y_val, y_val_classes)\n",
    "print(\"\\nConfusion Matrix for validation set:\")\n",
    "disp = ConfusionMatrixDisplay(confusion_matrix=conf_matrix, display_labels=class_names)\n",
    "disp.plot()\n",
    "plt.show()\n",
    "\n",
    "'''From the confusion matrix we can see model is having trouble distinguishing the tulip from rose.'''\n",
    "\n",
    "# Classification report for validation test to see the performance of individual flower categories\n",
    "class_report = classification_report(y_val, y_val_classes, target_names=class_names)\n",
    "print(\"Classification Report for validation set:\")\n",
    "print(class_report)"
   ]
  },
  {
   "cell_type": "code",
   "execution_count": 15,
   "metadata": {},
   "outputs": [
    {
     "name": "stdout",
     "output_type": "stream",
     "text": [
      "21/21 [==============================] - 295s 14s/step\n",
      "\n",
      "Test Accuracy: 0.6219135802469136%\n",
      "\n",
      "95/95 [==============================] - 1371s 14s/step\n",
      "\n",
      "Training Accuracy: 0.8053624627606752%\n",
      "\n"
     ]
    }
   ],
   "source": [
    "# Evaluate the model on the testing set\n",
    "y_pred = baseline_model.predict(X_test)\n",
    "y_pred_classes = np.argmax(y_pred, axis=1)\n",
    "\n",
    "# Calculate accuracy\n",
    "accuracy = accuracy_score(y_test, y_pred_classes)\n",
    "print(f\"\\nTest Accuracy: {accuracy}%\\n\")\n",
    "\n",
    "# Compare to training accuracy\n",
    "train_accuracy = accuracy_score(y_train, np.argmax(baseline_model.predict(X_train), axis=1))\n",
    "print(f\"\\nTraining Accuracy: {train_accuracy}%\\n\")\n"
   ]
  },
  {
   "cell_type": "code",
   "execution_count": 16,
   "metadata": {},
   "outputs": [
    {
     "name": "stdout",
     "output_type": "stream",
     "text": [
      "Confusion Matrix for testing set:\n"
     ]
    },
    {
     "data": {
      "image/png": "[encoded data removed]",
      "text/plain": [
       "<Figure size 640x480 with 2 Axes>"
      ]
     },
     "metadata": {},
     "output_type": "display_data"
    }
   ],
   "source": [
    "# Confusion matrix for testing set\n",
    "conf_matrix = confusion_matrix(y_test, y_pred_classes)\n",
    "print(\"Confusion Matrix for testing set:\")\n",
    "disp = ConfusionMatrixDisplay(confusion_matrix=conf_matrix, display_labels=class_names)\n",
    "disp.plot()\n",
    "plt.show()"
   ]
  },
  {
   "cell_type": "code",
   "execution_count": 17,
   "metadata": {},
   "outputs": [
    {
     "name": "stdout",
     "output_type": "stream",
     "text": [
      "Classification Report for testing set:\n",
      "              precision    recall  f1-score   support\n",
      "\n",
      "       daisy       0.52      0.75      0.62       115\n",
      "   dandelion       0.69      0.73      0.71       158\n",
      "        rose       0.53      0.57      0.55       117\n",
      "   sunflower       0.76      0.65      0.70       110\n",
      "       tulip       0.66      0.43      0.52       148\n",
      "\n",
      "    accuracy                           0.62       648\n",
      "   macro avg       0.63      0.63      0.62       648\n",
      "weighted avg       0.64      0.62      0.62       648\n",
      "\n"
     ]
    }
   ],
   "source": [
    "# Classification report for testing test to see the performance of individual flower categories\n",
    "class_report = classification_report(y_test, y_pred_classes, target_names=class_names)\n",
    "print(\"Classification Report for testing set:\")\n",
    "print(class_report)"
   ]
  },
  {
   "cell_type": "code",
   "execution_count": 43,
   "metadata": {},
   "outputs": [
    {
     "name": "stdout",
     "output_type": "stream",
     "text": [
      "Model: \"sequential\"\n",
      "_________________________________________________________________\n",
      " Layer (type)                Output Shape              Param #   \n",
      "=================================================================\n",
      " conv2d (Conv2D)             (None, 224, 224, 64)      1792      \n",
      "                                                                 \n",
      " batch_normalization (BatchN  (None, 224, 224, 64)     256       \n",
      " ormalization)                                                   \n",
      "                                                                 \n",
      " conv2d_1 (Conv2D)           (None, 224, 224, 64)      36928     \n",
      "                                                                 \n",
      " batch_normalization_1 (Batc  (None, 224, 224, 64)     256       \n",
      " hNormalization)                                                 \n",
      "                                                                 \n",
      " max_pooling2d (MaxPooling2D  (None, 112, 112, 64)     0         \n",
      " )                                                               \n",
      "                                                                 \n",
      " conv2d_2 (Conv2D)           (None, 112, 112, 128)     73856     \n",
      "                                                                 \n",
      " batch_normalization_2 (Batc  (None, 112, 112, 128)    512       \n",
      " hNormalization)                                                 \n",
      "                                                                 \n",
      " conv2d_3 (Conv2D)           (None, 112, 112, 128)     147584    \n",
      "                                                                 \n",
      " batch_normalization_3 (Batc  (None, 112, 112, 128)    512       \n",
      " hNormalization)                                                 \n",
      "                                                                 \n",
      " max_pooling2d_1 (MaxPooling  (None, 56, 56, 128)      0         \n",
      " 2D)                                                             \n",
      "                                                                 \n",
      " conv2d_4 (Conv2D)           (None, 56, 56, 256)       295168    \n",
      "                                                                 \n",
      " batch_normalization_4 (Batc  (None, 56, 56, 256)      1024      \n",
      " hNormalization)                                                 \n",
      "                                                                 \n",
      " conv2d_5 (Conv2D)           (None, 56, 56, 256)       590080    \n",
      "                                                                 \n",
      " batch_normalization_5 (Batc  (None, 56, 56, 256)      1024      \n",
      " hNormalization)                                                 \n",
      "                                                                 \n",
      " conv2d_6 (Conv2D)           (None, 56, 56, 256)       590080    \n",
      "                                                                 \n",
      " batch_normalization_6 (Batc  (None, 56, 56, 256)      1024      \n",
      " hNormalization)                                                 \n",
      "                                                                 \n",
      " max_pooling2d_2 (MaxPooling  (None, 28, 28, 256)      0         \n",
      " 2D)                                                             \n",
      "                                                                 \n",
      " conv2d_7 (Conv2D)           (None, 28, 28, 512)       1180160   \n",
      "                                                                 \n",
      " batch_normalization_7 (Batc  (None, 28, 28, 512)      2048      \n",
      " hNormalization)                                                 \n",
      "                                                                 \n",
      " conv2d_8 (Conv2D)           (None, 28, 28, 512)       2359808   \n",
      "                                                                 \n",
      " batch_normalization_8 (Batc  (None, 28, 28, 512)      2048      \n",
      " hNormalization)                                                 \n",
      "                                                                 \n",
      " conv2d_9 (Conv2D)           (None, 28, 28, 512)       2359808   \n",
      "                                                                 \n",
      " batch_normalization_9 (Batc  (None, 28, 28, 512)      2048      \n",
      " hNormalization)                                                 \n",
      "                                                                 \n",
      " max_pooling2d_3 (MaxPooling  (None, 14, 14, 512)      0         \n",
      " 2D)                                                             \n",
      "                                                                 \n",
      " conv2d_10 (Conv2D)          (None, 14, 14, 512)       2359808   \n",
      "                                                                 \n",
      " batch_normalization_10 (Bat  (None, 14, 14, 512)      2048      \n",
      " chNormalization)                                                \n",
      "                                                                 \n",
      " conv2d_11 (Conv2D)          (None, 14, 14, 512)       2359808   \n",
      "                                                                 \n",
      " batch_normalization_11 (Bat  (None, 14, 14, 512)      2048      \n",
      " chNormalization)                                                \n",
      "                                                                 \n",
      " conv2d_12 (Conv2D)          (None, 14, 14, 512)       2359808   \n",
      "                                                                 \n",
      " batch_normalization_12 (Bat  (None, 14, 14, 512)      2048      \n",
      " chNormalization)                                                \n",
      "                                                                 \n",
      " max_pooling2d_4 (MaxPooling  (None, 7, 7, 512)        0         \n",
      " 2D)                                                             \n",
      "                                                                 \n",
      " flatten (Flatten)           (None, 25088)             0         \n",
      "                                                                 \n",
      " dense (Dense)               (None, 4096)              102764544 \n",
      "                                                                 \n",
      " batch_normalization_13 (Bat  (None, 4096)             16384     \n",
      " chNormalization)                                                \n",
      "                                                                 \n",
      " dense_1 (Dense)             (None, 4096)              16781312  \n",
      "                                                                 \n",
      " batch_normalization_14 (Bat  (None, 4096)             16384     \n",
      " chNormalization)                                                \n",
      "                                                                 \n",
      " dense_2 (Dense)             (None, 4096)              16781312  \n",
      "                                                                 \n",
      " batch_normalization_15 (Bat  (None, 4096)             16384     \n",
      " chNormalization)                                                \n",
      "                                                                 \n",
      " dense_3 (Dense)             (None, 5)                 20485     \n",
      "                                                                 \n",
      "=================================================================\n",
      "Total params: 151,128,389\n",
      "Trainable params: 151,095,365\n",
      "Non-trainable params: 33,024\n",
      "_________________________________________________________________\n"
     ]
    }
   ],
   "source": [
    "# Print the model summary\n",
    "baseline_model.summary()"
   ]
  },
  {
   "cell_type": "code",
   "execution_count": null,
   "metadata": {},
   "outputs": [],
   "source": [
    "'''This model has lot of parameters which makes training the model harder as each epoch takes 30 - 60 mins to train. Without the\n",
    "batch normalization layer it was taking 2 hrs per epoch and after executing for 30 epochs the accuracy was only 16% so batch norm\n",
    "layer was added to to reduce the internal covariant shift and to reach the optimal accuracy faster.'''"
   ]
  },
  {
   "cell_type": "markdown",
   "metadata": {},
   "source": [
    "**5. Test the model by giving it a picture taken by your own phone camera. (10 points)**\n",
    "\n",
    "* How can the accuracy of the model on the picture taken by your own phone camera be evaluated?\n",
    "\n",
    "* What can be done if the model does not perform well on the picture taken by your own phone camera?\n"
   ]
  },
  {
   "cell_type": "code",
   "execution_count": 28,
   "metadata": {},
   "outputs": [
    {
     "name": "stdout",
     "output_type": "stream",
     "text": [
      "4/4 [==============================] - 16s 4s/step\n"
     ]
    }
   ],
   "source": [
    "#Loading and pre-processing the picture from the folder\n",
    "X_mobile_test, y_mobile_test, code = load_and_preprocess_data('C:/Users/lenovo/Downloads/Assignment3/mobile_flower', class_names)\n",
    "\n",
    "#Using the model to predict \n",
    "y_mobile_pred = baseline_model.predict(X_mobile_test)\n",
    "y_mobile_pred_classes = np.argmax(y_mobile_pred, axis=1)\n",
    "\n"
   ]
  },
  {
   "cell_type": "code",
   "execution_count": 29,
   "metadata": {},
   "outputs": [
    {
     "name": "stdout",
     "output_type": "stream",
     "text": [
      "Mobile Pictures Test Accuracy: 0.7321428571428571\n"
     ]
    }
   ],
   "source": [
    "# Calculate accuracy for mobile dataset\n",
    "mobile_accuracy = accuracy_score(y_mobile_test, y_mobile_pred_classes)\n",
    "print(f\"Mobile Pictures Test Accuracy: {mobile_accuracy}\")"
   ]
  },
  {
   "cell_type": "code",
   "execution_count": 30,
   "metadata": {},
   "outputs": [
    {
     "name": "stdout",
     "output_type": "stream",
     "text": [
      "Confusion Matrix for mobile data:\n"
     ]
    },
    {
     "data": {
      "image/png": "[encoded data removed]",
      "text/plain": [
       "<Figure size 640x480 with 2 Axes>"
      ]
     },
     "metadata": {},
     "output_type": "display_data"
    },
    {
     "name": "stdout",
     "output_type": "stream",
     "text": [
      "\n",
      "Classification Report for mobile data:\n",
      "              precision    recall  f1-score   support\n",
      "\n",
      "       daisy       0.63      0.95      0.76        20\n",
      "   dandelion       0.68      0.75      0.71        20\n",
      "        rose       0.68      0.68      0.68        25\n",
      "   sunflower       0.90      0.75      0.82        24\n",
      "       tulip       0.87      0.57      0.68        23\n",
      "\n",
      "    accuracy                           0.73       112\n",
      "   macro avg       0.75      0.74      0.73       112\n",
      "weighted avg       0.76      0.73      0.73       112\n",
      "\n"
     ]
    }
   ],
   "source": [
    "# Confusion matrix \n",
    "conf_matrix = confusion_matrix(y_mobile_test, y_mobile_pred_classes)\n",
    "print(\"Confusion Matrix for mobile data:\")\n",
    "\n",
    "disp = ConfusionMatrixDisplay(confusion_matrix=conf_matrix, display_labels=class_names)\n",
    "disp.plot()\n",
    "plt.show()\n",
    "\n",
    "# Classification report to see the performance of individual flower categories\n",
    "class_report = classification_report(y_mobile_test, y_mobile_pred_classes, target_names=class_names)\n",
    "print(\"\\nClassification Report for mobile data:\")\n",
    "print(class_report)\n"
   ]
  },
  {
   "cell_type": "code",
   "execution_count": null,
   "metadata": {},
   "outputs": [],
   "source": [
    "'''To improve the results we can train the model for more tulip dataset to increase the its understanding of tulip, \n",
    "we can also add more layers to increase model ability to learn the features more deeply, we can change the models image size,\n",
    " as well as we can also increase the no.of epochs to train model more throughly.'''"
   ]
  },
  {
   "cell_type": "markdown",
   "metadata": {},
   "source": [
    "**6. Use the same architecture but now train two different models one with L1 or L2 regularization, and one with batch normalization. (20 points)**\n",
    "\n",
    "\n",
    "* Based on the results of the regularized and batch normalized models, how effective are L1 or L2 regularization and batch normalization techniques? How do they impact the model's performance, convergence, size, and inference time?\n",
    "\n",
    "* How do the learned weights of the L1 or L2 regularized models compare to the baseline model? Provide any insights on the differences in the learned weights and what it implies for the model's performance and interpretability?\n",
    "\n",
    "* What insights can be drawn from the comprehensive analysis of the regularized and batch normalized models regarding the use of regularization and normalization techniques in training machine learning models?"
   ]
  },
  {
   "cell_type": "code",
   "execution_count": 38,
   "metadata": {},
   "outputs": [],
   "source": [
    "#Step 6 implementation\n",
    "# L2 regularization model\n",
    "l2_model = models.Sequential([\n",
    "    layers.Conv2D(64, (3, 3), activation='relu', padding='same', input_shape=(224, 224, 3), kernel_regularizer=regularizers.l2(0.01)),\n",
    "    layers.Conv2D(64, (3, 3), activation='relu', padding='same', kernel_regularizer=regularizers.l2(0.01)),\n",
    "    layers.MaxPooling2D((2, 2)),\n",
    "    layers.Conv2D(128, (3, 3), activation='relu', padding='same', kernel_regularizer=regularizers.l2(0.01)),\n",
    "    layers.Conv2D(128, (3, 3), activation='relu', padding='same', kernel_regularizer=regularizers.l2(0.01)),\n",
    "    layers.MaxPooling2D((2, 2)),\n",
    "    layers.Conv2D(256, (3, 3), activation='relu', padding='same', kernel_regularizer=regularizers.l2(0.01)),\n",
    "    layers.Conv2D(256, (3, 3), activation='relu', padding='same', kernel_regularizer=regularizers.l2(0.01)),\n",
    "    layers.Conv2D(256, (3, 3), activation='relu', padding='same', kernel_regularizer=regularizers.l2(0.01)),\n",
    "    layers.MaxPooling2D((2, 2)),\n",
    "    layers.Conv2D(512, (3, 3), activation='relu', padding='same', kernel_regularizer=regularizers.l2(0.01)),\n",
    "    layers.Conv2D(512, (3, 3), activation='relu', padding='same', kernel_regularizer=regularizers.l2(0.01)),\n",
    "    layers.Conv2D(512, (3, 3), activation='relu', padding='same', kernel_regularizer=regularizers.l2(0.01)),\n",
    "    layers.MaxPooling2D((2, 2)),\n",
    "    layers.Conv2D(512, (3, 3), activation='relu', padding='same', kernel_regularizer=regularizers.l2(0.01)),\n",
    "    layers.Conv2D(512, (3, 3), activation='relu', padding='same', kernel_regularizer=regularizers.l2(0.01)),\n",
    "    layers.Conv2D(512, (3, 3), activation='relu', padding='same', kernel_regularizer=regularizers.l2(0.01)),\n",
    "    layers.MaxPooling2D((2, 2)),\n",
    "    layers.Flatten(),\n",
    "    layers.Dense(4096, activation='relu', kernel_regularizer=regularizers.l2(0.01)),\n",
    "    layers.Dense(4096, activation='relu', kernel_regularizer=regularizers.l2(0.01)),\n",
    "    layers.Dense(4096, activation='relu', kernel_regularizer=regularizers.l2(0.01)),\n",
    "    layers.Dense(len(class_names), activation='softmax'),\n",
    "])\n"
   ]
  },
  {
   "cell_type": "code",
   "execution_count": 39,
   "metadata": {},
   "outputs": [
    {
     "name": "stdout",
     "output_type": "stream",
     "text": [
      "Model: \"sequential\"\n",
      "_________________________________________________________________\n",
      " Layer (type)                Output Shape              Param #   \n",
      "=================================================================\n",
      " conv2d (Conv2D)             (None, 224, 224, 64)      1792      \n",
      "                                                                 \n",
      " conv2d_1 (Conv2D)           (None, 224, 224, 64)      36928     \n",
      "                                                                 \n",
      " max_pooling2d (MaxPooling2D  (None, 112, 112, 64)     0         \n",
      " )                                                               \n",
      "                                                                 \n",
      " conv2d_2 (Conv2D)           (None, 112, 112, 128)     73856     \n",
      "                                                                 \n",
      " conv2d_3 (Conv2D)           (None, 112, 112, 128)     147584    \n",
      "                                                                 \n",
      " max_pooling2d_1 (MaxPooling  (None, 56, 56, 128)      0         \n",
      " 2D)                                                             \n",
      "                                                                 \n",
      " conv2d_4 (Conv2D)           (None, 56, 56, 256)       295168    \n",
      "                                                                 \n",
      " conv2d_5 (Conv2D)           (None, 56, 56, 256)       590080    \n",
      "                                                                 \n",
      " conv2d_6 (Conv2D)           (None, 56, 56, 256)       590080    \n",
      "                                                                 \n",
      " max_pooling2d_2 (MaxPooling  (None, 28, 28, 256)      0         \n",
      " 2D)                                                             \n",
      "                                                                 \n",
      " conv2d_7 (Conv2D)           (None, 28, 28, 512)       1180160   \n",
      "                                                                 \n",
      " conv2d_8 (Conv2D)           (None, 28, 28, 512)       2359808   \n",
      "                                                                 \n",
      " conv2d_9 (Conv2D)           (None, 28, 28, 512)       2359808   \n",
      "                                                                 \n",
      " max_pooling2d_3 (MaxPooling  (None, 14, 14, 512)      0         \n",
      " 2D)                                                             \n",
      "                                                                 \n",
      " conv2d_10 (Conv2D)          (None, 14, 14, 512)       2359808   \n",
      "                                                                 \n",
      " conv2d_11 (Conv2D)          (None, 14, 14, 512)       2359808   \n",
      "                                                                 \n",
      " conv2d_12 (Conv2D)          (None, 14, 14, 512)       2359808   \n",
      "                                                                 \n",
      " max_pooling2d_4 (MaxPooling  (None, 7, 7, 512)        0         \n",
      " 2D)                                                             \n",
      "                                                                 \n",
      " flatten (Flatten)           (None, 25088)             0         \n",
      "                                                                 \n",
      " dense (Dense)               (None, 4096)              102764544 \n",
      "                                                                 \n",
      " dense_1 (Dense)             (None, 4096)              16781312  \n",
      "                                                                 \n",
      " dense_2 (Dense)             (None, 4096)              16781312  \n",
      "                                                                 \n",
      " dense_3 (Dense)             (None, 5)                 20485     \n",
      "                                                                 \n",
      "=================================================================\n",
      "Total params: 151,062,341\n",
      "Trainable params: 151,062,341\n",
      "Non-trainable params: 0\n",
      "_________________________________________________________________\n"
     ]
    }
   ],
   "source": [
    "# Compile the model\n",
    "l2_model.compile(optimizer='adam',\n",
    "              loss='sparse_categorical_crossentropy',\n",
    "              metrics=['accuracy'])\n",
    "\n",
    "\n",
    "# Print the model summary\n",
    "l2_model.summary()"
   ]
  },
  {
   "cell_type": "code",
   "execution_count": 40,
   "metadata": {},
   "outputs": [
    {
     "name": "stdout",
     "output_type": "stream",
     "text": [
      "Epoch 1/10\n",
      "95/95 [==============================] - 1878s 20s/step - loss: 15.8269 - accuracy: 0.2168 - val_loss: 1.6182 - val_accuracy: 0.1698\n",
      "Epoch 2/10\n",
      "95/95 [==============================] - 1862s 20s/step - loss: 1.6108 - accuracy: 0.1572 - val_loss: 1.6100 - val_accuracy: 0.1821\n",
      "Epoch 3/10\n",
      "95/95 [==============================] - 1856s 20s/step - loss: 1.6098 - accuracy: 0.1956 - val_loss: 1.6095 - val_accuracy: 0.1759\n",
      "Epoch 4/10\n",
      "95/95 [==============================] - 1859s 20s/step - loss: 1.6096 - accuracy: 0.1860 - val_loss: 1.6096 - val_accuracy: 0.1759\n",
      "Epoch 5/10\n",
      "95/95 [==============================] - 1862s 20s/step - loss: 1.6096 - accuracy: 0.1691 - val_loss: 1.6098 - val_accuracy: 0.1698\n",
      "Epoch 6/10\n",
      "95/95 [==============================] - 1861s 20s/step - loss: 1.6096 - accuracy: 0.1870 - val_loss: 1.6096 - val_accuracy: 0.1698\n",
      "Epoch 7/10\n",
      "95/95 [==============================] - 1863s 20s/step - loss: 1.6096 - accuracy: 0.1847 - val_loss: 1.6097 - val_accuracy: 0.1698\n",
      "Epoch 8/10\n",
      "95/95 [==============================] - 1859s 20s/step - loss: 1.6096 - accuracy: 0.1682 - val_loss: 1.6098 - val_accuracy: 0.1759\n",
      "Epoch 9/10\n",
      "95/95 [==============================] - 1859s 20s/step - loss: 1.6096 - accuracy: 0.1691 - val_loss: 1.6100 - val_accuracy: 0.1698\n",
      "Epoch 10/10\n",
      "95/95 [==============================] - 1853s 20s/step - loss: 1.6097 - accuracy: 0.1595 - val_loss: 1.6096 - val_accuracy: 0.1821\n"
     ]
    }
   ],
   "source": [
    "#Train the l2_model with 10 epochs\n",
    "history_l2 = l2_model.fit(X_train, y_train, epochs=10, validation_data=(X_val, y_val), class_weight=class_weight_dict)"
   ]
  },
  {
   "cell_type": "code",
   "execution_count": 41,
   "metadata": {},
   "outputs": [],
   "source": [
    "l2_model.save('l2_model.h5')"
   ]
  },
  {
   "cell_type": "code",
   "execution_count": 65,
   "metadata": {},
   "outputs": [
    {
     "data": {
      "text/plain": [
       "'\\nPerformance/ convergence/ size - L2 regularization helps prevent overfitting by penalizing large weights. It is effective \\nwhen the model is prone to overfitting. In this 10 epochs we can see that the loss function is decreasing much faster\\nthan in the original model trained in part 3. \\nBut the model accuracy is also increasing very slowly which causes slower convergence, but it can improve \\ngeneralization. The model size is nearly same as the base model as the base model uses batch norm, without the batch norm the\\nbase model has around 50,000,000 parameters. \\n\\nInference time - this model takes approximately 20s/step per epoch and per epoch has 95 steps.\\nTo train this model we might need to increase the number of epochs.'"
      ]
     },
     "execution_count": 65,
     "metadata": {},
     "output_type": "execute_result"
    }
   ],
   "source": [
    "'''\n",
    "Performance/ convergence/ size - L2 regularization helps prevent overfitting by penalizing large weights. It is effective \n",
    "when the model is prone to overfitting. In this 10 epochs we can see that the loss function is decreasing much faster\n",
    "than in the original model trained in part 3. \n",
    "But the model accuracy is also increasing very slowly which causes slower convergence, but it can improve \n",
    "generalization. The model size is nearly same as the base model as the base model uses batch norm, without the batch norm the\n",
    "base model has around 50,000,000 parameters. \n",
    "\n",
    "Inference time - this model takes approximately 20s/step per epoch and per epoch has 95 steps.\n",
    "To train this model to reach convergence and gives good result we need to increase the number of epochs.'''"
   ]
  },
  {
   "cell_type": "code",
   "execution_count": 62,
   "metadata": {},
   "outputs": [
    {
     "name": "stdout",
     "output_type": "stream",
     "text": [
      "Layer 0 - Baseline L2 Norm: 2.6873087882995605, L2 Regularized L2 Norm: 2.520530131278065e-07\n",
      "L2 Regularized Weights have smaller magnitudes.\n",
      "\n",
      "Layer 1 - Baseline L2 Norm: 0.2648215889930725, L2 Regularized L2 Norm: 0.04177236184477806\n",
      "L2 Regularized Weights have smaller magnitudes.\n",
      "\n",
      "Layer 2 - Baseline L2 Norm: 7.988710880279541, L2 Regularized L2 Norm: 0.0004944562679156661\n",
      "L2 Regularized Weights have smaller magnitudes.\n",
      "\n",
      "Layer 3 - Baseline L2 Norm: 0.32686951756477356, L2 Regularized L2 Norm: 0.04746448993682861\n",
      "L2 Regularized Weights have smaller magnitudes.\n",
      "\n",
      "Layer 4 - Baseline L2 Norm: 0.8304063081741333, L2 Regularized L2 Norm: 0.0003773271746467799\n",
      "L2 Regularized Weights have smaller magnitudes.\n",
      "\n",
      "Layer 5 - Baseline L2 Norm: 0.07764224708080292, L2 Regularized L2 Norm: 0.06265842914581299\n",
      "L2 Regularized Weights have smaller magnitudes.\n",
      "\n",
      "Layer 6 - Baseline L2 Norm: 9.236048698425293, L2 Regularized L2 Norm: 0.0009371815831400454\n",
      "L2 Regularized Weights have smaller magnitudes.\n",
      "\n",
      "Layer 7 - Baseline L2 Norm: 0.17327666282653809, L2 Regularized L2 Norm: 0.06014576181769371\n",
      "L2 Regularized Weights have smaller magnitudes.\n",
      "\n",
      "Layer 8 - Baseline L2 Norm: 7.984722137451172, L2 Regularized L2 Norm: 0.001071976381354034\n",
      "L2 Regularized Weights have smaller magnitudes.\n",
      "\n",
      "Layer 9 - Baseline L2 Norm: 0.30303481221199036, L2 Regularized L2 Norm: 0.07757186144590378\n",
      "L2 Regularized Weights have smaller magnitudes.\n",
      "\n",
      "Layer 10 - Baseline L2 Norm: 6.19948148727417, L2 Regularized L2 Norm: 0.002014442812651396\n",
      "L2 Regularized Weights have smaller magnitudes.\n",
      "\n",
      "Layer 11 - Baseline L2 Norm: 14.086797714233398, L2 Regularized L2 Norm: 0.08432693779468536\n",
      "L2 Regularized Weights have smaller magnitudes.\n",
      "\n",
      "Layer 12 - Baseline L2 Norm: 10.130960464477539, L2 Regularized L2 Norm: 0.0019121455261483788\n",
      "L2 Regularized Weights have smaller magnitudes.\n",
      "\n",
      "Layer 13 - Baseline L2 Norm: 0.25394347310066223, L2 Regularized L2 Norm: 0.09390193969011307\n",
      "L2 Regularized Weights have smaller magnitudes.\n",
      "\n",
      "Layer 14 - Baseline L2 Norm: 11.304891586303711, L2 Regularized L2 Norm: 0.002869802061468363\n",
      "L2 Regularized Weights have smaller magnitudes.\n",
      "\n",
      "Layer 15 - Baseline L2 Norm: 0.5551679134368896, L2 Regularized L2 Norm: 0.1234373226761818\n",
      "L2 Regularized Weights have smaller magnitudes.\n",
      "\n",
      "Layer 16 - Baseline L2 Norm: 9.780083656311035, L2 Regularized L2 Norm: 0.004605813417583704\n",
      "L2 Regularized Weights have smaller magnitudes.\n",
      "\n",
      "Layer 17 - Baseline L2 Norm: 24.927082061767578, L2 Regularized L2 Norm: 0.12124108523130417\n",
      "L2 Regularized Weights have smaller magnitudes.\n",
      "\n",
      "Layer 18 - Baseline L2 Norm: 12.302472114562988, L2 Regularized L2 Norm: 0.004414258524775505\n",
      "L2 Regularized Weights have smaller magnitudes.\n",
      "\n",
      "Layer 19 - Baseline L2 Norm: 0.2765016257762909, L2 Regularized L2 Norm: 0.12907126545906067\n",
      "L2 Regularized Weights have smaller magnitudes.\n",
      "\n",
      "Layer 20 - Baseline L2 Norm: 11.314859390258789, L2 Regularized L2 Norm: 0.004327063448727131\n",
      "L2 Regularized Weights have smaller magnitudes.\n",
      "\n",
      "Layer 21 - Baseline L2 Norm: 0.3183293342590332, L2 Regularized L2 Norm: 0.12403042614459991\n",
      "L2 Regularized Weights have smaller magnitudes.\n",
      "\n",
      "Layer 22 - Baseline L2 Norm: 13.39417839050293, L2 Regularized L2 Norm: 0.004222873132675886\n",
      "L2 Regularized Weights have smaller magnitudes.\n",
      "\n",
      "Layer 23 - Baseline L2 Norm: 59.589534759521484, L2 Regularized L2 Norm: 0.1229303628206253\n",
      "L2 Regularized Weights have smaller magnitudes.\n",
      "\n",
      "Layer 24 - Baseline L2 Norm: 14.339472770690918, L2 Regularized L2 Norm: 0.00392695190384984\n",
      "L2 Regularized Weights have smaller magnitudes.\n",
      "\n",
      "Layer 25 - Baseline L2 Norm: 0.28079336881637573, L2 Regularized L2 Norm: 0.12472070753574371\n",
      "L2 Regularized Weights have smaller magnitudes.\n",
      "\n",
      "Layer 26 - Baseline L2 Norm: 15.994093894958496, L2 Regularized L2 Norm: 0.04040437191724777\n",
      "L2 Regularized Weights have smaller magnitudes.\n",
      "\n",
      "Layer 27 - Baseline L2 Norm: 0.463942289352417, L2 Regularized L2 Norm: 0.344885915517807\n",
      "L2 Regularized Weights have smaller magnitudes.\n",
      "\n",
      "Layer 28 - Baseline L2 Norm: 18.226226806640625, L2 Regularized L2 Norm: 0.011563828215003014\n",
      "L2 Regularized Weights have smaller magnitudes.\n",
      "\n",
      "Layer 29 - Baseline L2 Norm: 86.88786315917969, L2 Regularized L2 Norm: 0.32469168305397034\n",
      "L2 Regularized Weights have smaller magnitudes.\n",
      "\n",
      "Layer 30 - Baseline L2 Norm: 17.566823959350586, L2 Regularized L2 Norm: 0.012694400735199451\n",
      "L2 Regularized Weights have smaller magnitudes.\n",
      "\n",
      "Layer 31 - Baseline L2 Norm: 0.20429730415344238, L2 Regularized L2 Norm: 0.30881115794181824\n",
      "Baseline Weights have smaller magnitudes.\n",
      "\n",
      "Layer 32 - Baseline L2 Norm: 15.990697860717773, L2 Regularized L2 Norm: 2.9554898738861084\n",
      "L2 Regularized Weights have smaller magnitudes.\n",
      "\n",
      "Layer 33 - Baseline L2 Norm: 0.6427900195121765, L2 Regularized L2 Norm: 0.006202682387083769\n",
      "L2 Regularized Weights have smaller magnitudes.\n",
      "\n"
     ]
    }
   ],
   "source": [
    "'''L2 regularized models weights compared to the baseline model'''\n",
    "# Getting model weights\n",
    "baseline_weights = baseline_model.get_weights()\n",
    "l2_weights = l2_model.get_weights()\n",
    "\n",
    "#Counter to keep track\n",
    "count_L2 = 0\n",
    "count_baseline = 0\n",
    "\n",
    "# Iterate through corresponding layers and compare L2 norms\n",
    "for i in range(len(l2_weights)):\n",
    "    baseline_norm = np.linalg.norm(baseline_weights[i])\n",
    "    l2_norm = np.linalg.norm(l2_weights[i])\n",
    "\n",
    "    print(f\"Layer {i} - Baseline L2 Norm: {baseline_norm}, L2 Regularized L2 Norm: {l2_norm}\")\n",
    "    \n",
    "\n",
    "    # Compare the magnitudes\n",
    "    if l2_norm < baseline_norm:\n",
    "        print(\"L2 Regularized Weights have smaller magnitudes.\")\n",
    "        count_L2 += 1\n",
    "    elif l2_norm > baseline_norm:\n",
    "        print(\"Baseline Weights have smaller magnitudes.\")\n",
    "        count_baseline += 1\n",
    "    else:\n",
    "        count_L2 += 1\n",
    "        count_baseline += 1\n",
    "        print(\"Magnitudes are equal.\")\n",
    "    print()\n"
   ]
  },
  {
   "cell_type": "code",
   "execution_count": 64,
   "metadata": {},
   "outputs": [
    {
     "name": "stdout",
     "output_type": "stream",
     "text": [
      "The l2_model learned weights have smaller magnitudes compared to the non-regularized/baseline model. It implies that the model is penalized for having large weights.\n"
     ]
    }
   ],
   "source": [
    "if count_L2 > count_baseline:\n",
    "    print(\"The l2_model learned weights have smaller magnitudes compared to the non-regularized/baseline model. It implies that the model is penalized for having large weights.\")\n",
    "else:\n",
    "    print(\"The beseline model learned weights have smaller magnitudes compared to the l2_model model.\")"
   ]
  },
  {
   "cell_type": "code",
   "execution_count": null,
   "metadata": {},
   "outputs": [],
   "source": [
    "'''I have used batch normalization to train the baseline model to reach convergence to faster as without it the model was\n",
    "not giving good accuracy even with 30 epochs and has very high loss values. Whereas with batchnorm I am able to get 63% accuracy\n",
    "on test test and reduce the loss to 1.5 for validation set.'''"
   ]
  },
  {
   "cell_type": "code",
   "execution_count": null,
   "metadata": {},
   "outputs": [],
   "source": [
    "'''\n",
    "Performance/ convergence/ size: Batch_norm model performs better than the normal model without batch norm in this dataset. \n",
    "The convergence time was reduced to 30 - 45 mins per epochs(batch norm) from 1-2 hrs per epoch(without batch norm). The size for\n",
    "for model without batch_norm was around 50 million parameters whereas for the batch norm its 151 million parameters.\n",
    "\n",
    "Inference time: this model takes approximately 20s/step per epoch and per epoch has 95 steps.\n",
    "\n",
    "Weights: The weights may have different distributions, and the normalization during training could \n",
    "lead to weights that are closer to zero mean and unit variance.\n",
    "'''"
   ]
  },
  {
   "cell_type": "code",
   "execution_count": 6,
   "metadata": {},
   "outputs": [],
   "source": [
    "#Training model with both L2 and batch normalization to check there combined use.\n",
    "l2_model_with_bn = models.Sequential([\n",
    "    layers.Conv2D(64, (3, 3), activation='relu', padding='same', input_shape=(224, 224, 3), kernel_regularizer=regularizers.l2(0.01)),\n",
    "    layers.BatchNormalization(),\n",
    "    layers.Conv2D(64, (3, 3), activation='relu', padding='same', kernel_regularizer=regularizers.l2(0.01)),\n",
    "    layers.BatchNormalization(),\n",
    "    layers.MaxPooling2D((2, 2)),\n",
    "    layers.Conv2D(128, (3, 3), activation='relu', padding='same', kernel_regularizer=regularizers.l2(0.01)),\n",
    "    layers.BatchNormalization(),\n",
    "    layers.Conv2D(128, (3, 3), activation='relu', padding='same', kernel_regularizer=regularizers.l2(0.01)),\n",
    "    layers.BatchNormalization(),\n",
    "    layers.MaxPooling2D((2, 2)),\n",
    "    layers.Conv2D(256, (3, 3), activation='relu', padding='same', kernel_regularizer=regularizers.l2(0.01)),\n",
    "    layers.BatchNormalization(),\n",
    "    layers.Conv2D(256, (3, 3), activation='relu', padding='same', kernel_regularizer=regularizers.l2(0.01)),\n",
    "    layers.BatchNormalization(),\n",
    "    layers.Conv2D(256, (3, 3), activation='relu', padding='same', kernel_regularizer=regularizers.l2(0.01)),\n",
    "    layers.BatchNormalization(),\n",
    "    layers.MaxPooling2D((2, 2)),\n",
    "    layers.Conv2D(512, (3, 3), activation='relu', padding='same', kernel_regularizer=regularizers.l2(0.01)),\n",
    "    layers.BatchNormalization(),\n",
    "    layers.Conv2D(512, (3, 3), activation='relu', padding='same', kernel_regularizer=regularizers.l2(0.01)),\n",
    "    layers.BatchNormalization(),\n",
    "    layers.Conv2D(512, (3, 3), activation='relu', padding='same', kernel_regularizer=regularizers.l2(0.01)),\n",
    "    layers.BatchNormalization(),\n",
    "    layers.MaxPooling2D((2, 2)),\n",
    "    layers.Conv2D(512, (3, 3), activation='relu', padding='same', kernel_regularizer=regularizers.l2(0.01)),\n",
    "    layers.BatchNormalization(),\n",
    "    layers.Conv2D(512, (3, 3), activation='relu', padding='same', kernel_regularizer=regularizers.l2(0.01)),\n",
    "    layers.BatchNormalization(),\n",
    "    layers.Conv2D(512, (3, 3), activation='relu', padding='same', kernel_regularizer=regularizers.l2(0.01)),\n",
    "    layers.BatchNormalization(),\n",
    "    layers.MaxPooling2D((2, 2)),\n",
    "    layers.Flatten(),\n",
    "    layers.Dense(4096, activation='relu', kernel_regularizer=regularizers.l2(0.01)),\n",
    "    layers.BatchNormalization(),\n",
    "    layers.Dense(4096, activation='relu', kernel_regularizer=regularizers.l2(0.01)),\n",
    "    layers.BatchNormalization(),\n",
    "    layers.Dense(4096, activation='relu', kernel_regularizer=regularizers.l2(0.01)),\n",
    "    layers.BatchNormalization(),\n",
    "    layers.Dense(len(class_names), activation='softmax'),\n",
    "])"
   ]
  },
  {
   "cell_type": "code",
   "execution_count": 7,
   "metadata": {},
   "outputs": [
    {
     "name": "stdout",
     "output_type": "stream",
     "text": [
      "Model: \"sequential\"\n",
      "_________________________________________________________________\n",
      " Layer (type)                Output Shape              Param #   \n",
      "=================================================================\n",
      " conv2d (Conv2D)             (None, 224, 224, 64)      1792      \n",
      "                                                                 \n",
      " batch_normalization (BatchN  (None, 224, 224, 64)     256       \n",
      " ormalization)                                                   \n",
      "                                                                 \n",
      " conv2d_1 (Conv2D)           (None, 224, 224, 64)      36928     \n",
      "                                                                 \n",
      " batch_normalization_1 (Batc  (None, 224, 224, 64)     256       \n",
      " hNormalization)                                                 \n",
      "                                                                 \n",
      " max_pooling2d (MaxPooling2D  (None, 112, 112, 64)     0         \n",
      " )                                                               \n",
      "                                                                 \n",
      " conv2d_2 (Conv2D)           (None, 112, 112, 128)     73856     \n",
      "                                                                 \n",
      " batch_normalization_2 (Batc  (None, 112, 112, 128)    512       \n",
      " hNormalization)                                                 \n",
      "                                                                 \n",
      " conv2d_3 (Conv2D)           (None, 112, 112, 128)     147584    \n",
      "                                                                 \n",
      " batch_normalization_3 (Batc  (None, 112, 112, 128)    512       \n",
      " hNormalization)                                                 \n",
      "                                                                 \n",
      " max_pooling2d_1 (MaxPooling  (None, 56, 56, 128)      0         \n",
      " 2D)                                                             \n",
      "                                                                 \n",
      " conv2d_4 (Conv2D)           (None, 56, 56, 256)       295168    \n",
      "                                                                 \n",
      " batch_normalization_4 (Batc  (None, 56, 56, 256)      1024      \n",
      " hNormalization)                                                 \n",
      "                                                                 \n",
      " conv2d_5 (Conv2D)           (None, 56, 56, 256)       590080    \n",
      "                                                                 \n",
      " batch_normalization_5 (Batc  (None, 56, 56, 256)      1024      \n",
      " hNormalization)                                                 \n",
      "                                                                 \n",
      " conv2d_6 (Conv2D)           (None, 56, 56, 256)       590080    \n",
      "                                                                 \n",
      " batch_normalization_6 (Batc  (None, 56, 56, 256)      1024      \n",
      " hNormalization)                                                 \n",
      "                                                                 \n",
      " max_pooling2d_2 (MaxPooling  (None, 28, 28, 256)      0         \n",
      " 2D)                                                             \n",
      "                                                                 \n",
      " conv2d_7 (Conv2D)           (None, 28, 28, 512)       1180160   \n",
      "                                                                 \n",
      " batch_normalization_7 (Batc  (None, 28, 28, 512)      2048      \n",
      " hNormalization)                                                 \n",
      "                                                                 \n",
      " conv2d_8 (Conv2D)           (None, 28, 28, 512)       2359808   \n",
      "                                                                 \n",
      " batch_normalization_8 (Batc  (None, 28, 28, 512)      2048      \n",
      " hNormalization)                                                 \n",
      "                                                                 \n",
      " conv2d_9 (Conv2D)           (None, 28, 28, 512)       2359808   \n",
      "                                                                 \n",
      " batch_normalization_9 (Batc  (None, 28, 28, 512)      2048      \n",
      " hNormalization)                                                 \n",
      "                                                                 \n",
      " max_pooling2d_3 (MaxPooling  (None, 14, 14, 512)      0         \n",
      " 2D)                                                             \n",
      "                                                                 \n",
      " conv2d_10 (Conv2D)          (None, 14, 14, 512)       2359808   \n",
      "                                                                 \n",
      " batch_normalization_10 (Bat  (None, 14, 14, 512)      2048      \n",
      " chNormalization)                                                \n",
      "                                                                 \n",
      " conv2d_11 (Conv2D)          (None, 14, 14, 512)       2359808   \n",
      "                                                                 \n",
      " batch_normalization_11 (Bat  (None, 14, 14, 512)      2048      \n",
      " chNormalization)                                                \n",
      "                                                                 \n",
      " conv2d_12 (Conv2D)          (None, 14, 14, 512)       2359808   \n",
      "                                                                 \n",
      " batch_normalization_12 (Bat  (None, 14, 14, 512)      2048      \n",
      " chNormalization)                                                \n",
      "                                                                 \n",
      " max_pooling2d_4 (MaxPooling  (None, 7, 7, 512)        0         \n",
      " 2D)                                                             \n",
      "                                                                 \n",
      " flatten (Flatten)           (None, 25088)             0         \n",
      "                                                                 \n",
      " dense (Dense)               (None, 4096)              102764544 \n",
      "                                                                 \n",
      " batch_normalization_13 (Bat  (None, 4096)             16384     \n",
      " chNormalization)                                                \n",
      "                                                                 \n",
      " dense_1 (Dense)             (None, 4096)              16781312  \n",
      "                                                                 \n",
      " batch_normalization_14 (Bat  (None, 4096)             16384     \n",
      " chNormalization)                                                \n",
      "                                                                 \n",
      " dense_2 (Dense)             (None, 4096)              16781312  \n",
      "                                                                 \n",
      " batch_normalization_15 (Bat  (None, 4096)             16384     \n",
      " chNormalization)                                                \n",
      "                                                                 \n",
      " dense_3 (Dense)             (None, 5)                 20485     \n",
      "                                                                 \n",
      "=================================================================\n",
      "Total params: 151,128,389\n",
      "Trainable params: 151,095,365\n",
      "Non-trainable params: 33,024\n",
      "_________________________________________________________________\n"
     ]
    }
   ],
   "source": [
    "# Compile the model\n",
    "l2_model_with_bn.compile(optimizer='adam',\n",
    "              loss='sparse_categorical_crossentropy',\n",
    "              metrics=['accuracy'])\n",
    "\n",
    "\n",
    "# Print the model summary\n",
    "l2_model_with_bn.summary()"
   ]
  },
  {
   "cell_type": "code",
   "execution_count": 12,
   "metadata": {},
   "outputs": [
    {
     "name": "stdout",
     "output_type": "stream",
     "text": [
      "Epoch 1/5\n",
      "95/95 [==============================] - 2042s 21s/step - loss: 92.7974 - accuracy: 0.3919 - val_loss: 48.4891 - val_accuracy: 0.2438\n",
      "Epoch 2/5\n",
      "95/95 [==============================] - 2029s 21s/step - loss: 35.1002 - accuracy: 0.4234 - val_loss: 26.6603 - val_accuracy: 0.1821\n",
      "Epoch 3/5\n",
      "95/95 [==============================] - 2066s 22s/step - loss: 21.9858 - accuracy: 0.4194 - val_loss: 18.3535 - val_accuracy: 0.1759\n",
      "Epoch 4/5\n",
      "95/95 [==============================] - 3160s 33s/step - loss: 15.7967 - accuracy: 0.3740 - val_loss: 12.8751 - val_accuracy: 0.2130\n",
      "Epoch 5/5\n",
      "95/95 [==============================] - 2516s 26s/step - loss: 11.1590 - accuracy: 0.4353 - val_loss: 9.6117 - val_accuracy: 0.2284\n"
     ]
    }
   ],
   "source": [
    "#Training the model with 5 epochs\n",
    "history_l2_bn = l2_model_with_bn.fit(X_train, y_train, epochs=5, validation_data=(X_val, y_val), class_weight=class_weight_dict)"
   ]
  },
  {
   "cell_type": "code",
   "execution_count": 13,
   "metadata": {},
   "outputs": [],
   "source": [
    "l2_model_with_bn.save('l2_model_with_bn.h5')"
   ]
  },
  {
   "cell_type": "code",
   "execution_count": 24,
   "metadata": {},
   "outputs": [
    {
     "data": {
      "image/png": "[encoded data removed]",
      "text/plain": [
       "<Figure size 800x800 with 2 Axes>"
      ]
     },
     "metadata": {},
     "output_type": "display_data"
    }
   ],
   "source": [
    "'''We can see that the above model is reducing the loss value pretty quicky and increasing the accuracy slowly but steadly \n",
    "for the 5 epochs I trained it for but there is a huge difference between the accuracy of training and validation set. \n",
    "It appears the L2 and batch norm compliments each other on this particular dataset once used together atleast for the loss values.\n",
    "To see the full effect we need to train this model(l2_model_with_bn) for more epochs.'''\n",
    "#Traing vs Validation set\n",
    "acc = history_l2_bn.history['accuracy']\n",
    "val_acc = history_l2_bn.history['val_accuracy']\n",
    "\n",
    "loss = history_l2_bn.history['loss']\n",
    "val_loss = history_l2_bn.history['val_loss']\n",
    "epochs_range = range(5)\n",
    "\n",
    "plt.figure(figsize=(8, 8))\n",
    "plt.subplot(1, 2, 1)\n",
    "plt.plot(epochs_range, acc, label='Training Accuracy')\n",
    "plt.plot(epochs_range, val_acc, label='Validation Accuracy')\n",
    "plt.legend(loc='lower right')\n",
    "plt.title('Training and Validation Accuracy')\n",
    "\n",
    "plt.subplot(1, 2, 2)\n",
    "plt.plot(epochs_range, loss, label='Training Loss')\n",
    "plt.plot(epochs_range, val_loss, label='Validation Loss')\n",
    "plt.legend(loc='upper right')\n",
    "plt.title('Training and Validation Loss')\n",
    "plt.show()"
   ]
  },
  {
   "cell_type": "code",
   "execution_count": null,
   "metadata": {},
   "outputs": [],
   "source": [
    "'''In conclusion, both L2 regularization and batch normalization are valuable techniques to improve model performance and\n",
    "generalization. The choice between them or their combination depends the dataset against which we want to train our data on.\n",
    "Regularization and normalization techniques are crucial tools in the practitioner's toolbox for building robust\n",
    "and generalizable machine learning models. To choose the correct technique we can try different combinations of them\n",
    "and see which one works best for us. To get to the correct model faster we can also try to check pout other people research\n",
    "and see which combination works best on particular type of dataset.'''\n"
   ]
  },
  {
   "cell_type": "markdown",
   "metadata": {},
   "source": [
    "**7. Improve the accuracy by trying something extra. (20 points)** \n",
    "\n",
    "* By incorporating additional training strategies such as regularization techniques like dropout, data augmentation, and batch or layer normalization, can the accuracy of the model be improved? \n",
    "\n",
    "* Modify the given model architecture to improve the accuracy over the baseline? You can modify the model architecture by adding or removing layers, changing the number of filters, or adding skip connections. \n",
    "\n",
    "\n",
    "* Use transfer learning to fine-tune an existing pre-trained model to improve accuracy?  What approach will you use for transfer learning: feature extraction or fine-tuning and why?\n",
    "\n"
   ]
  },
  {
   "cell_type": "code",
   "execution_count": 53,
   "metadata": {},
   "outputs": [],
   "source": [
    "#Step 7 implementation\n",
    "# Adding data augmentation layer\n",
    "data_augmentation = keras.Sequential(\n",
    "  [\n",
    "    layers.RandomFlip(\"horizontal\",\n",
    "                      input_shape=(224,\n",
    "                                  224,\n",
    "                                  3)),\n",
    "    layers.RandomRotation(0.1),\n",
    "    layers.RandomZoom(0.1),\n",
    "  ]\n",
    ")"
   ]
  },
  {
   "cell_type": "code",
   "execution_count": 54,
   "metadata": {},
   "outputs": [],
   "source": [
    "# Define the model with improved architecture\n",
    "improved_model = models.Sequential([\n",
    "    data_augmentation,\n",
    "    layers.Conv2D(64, (3, 3), activation='relu', padding='same', input_shape=(224, 224, 3), kernel_regularizer=regularizers.l2(0.01)),\n",
    "    layers.BatchNormalization(),\n",
    "    layers.Conv2D(64, (3, 3), activation='relu', padding='same', kernel_regularizer=regularizers.l2(0.01)),\n",
    "    layers.BatchNormalization(),\n",
    "    layers.MaxPooling2D((2, 2)),\n",
    "    layers.Conv2D(128, (3, 3), activation='relu', padding='same', kernel_regularizer=regularizers.l2(0.01)),\n",
    "    layers.BatchNormalization(),\n",
    "    layers.Conv2D(128, (3, 3), activation='relu', padding='same', kernel_regularizer=regularizers.l2(0.01)),\n",
    "    layers.BatchNormalization(),\n",
    "    layers.MaxPooling2D((2, 2)),\n",
    "    layers.Conv2D(256, (3, 3), activation='relu', padding='same', kernel_regularizer=regularizers.l2(0.01)),\n",
    "    layers.BatchNormalization(),\n",
    "    layers.Conv2D(256, (3, 3), activation='relu', padding='same', kernel_regularizer=regularizers.l2(0.01)),\n",
    "    layers.BatchNormalization(),\n",
    "    layers.Conv2D(256, (3, 3), activation='relu', padding='same', kernel_regularizer=regularizers.l2(0.01)),\n",
    "    layers.BatchNormalization(),\n",
    "    layers.MaxPooling2D((2, 2)),\n",
    "    layers.Conv2D(512, (3, 3), activation='relu', padding='same', kernel_regularizer=regularizers.l2(0.01)),\n",
    "    layers.BatchNormalization(),\n",
    "    layers.Conv2D(512, (3, 3), activation='relu', padding='same', kernel_regularizer=regularizers.l2(0.01)),\n",
    "    layers.BatchNormalization(),\n",
    "    layers.Conv2D(512, (3, 3), activation='relu', padding='same', kernel_regularizer=regularizers.l2(0.01)),\n",
    "    layers.BatchNormalization(),\n",
    "    layers.MaxPooling2D((2, 2)),\n",
    "    layers.Conv2D(512, (3, 3), activation='relu', padding='same', kernel_regularizer=regularizers.l2(0.01)),\n",
    "    layers.BatchNormalization(),\n",
    "    layers.Conv2D(512, (3, 3), activation='relu', padding='same', kernel_regularizer=regularizers.l2(0.01)),\n",
    "    layers.BatchNormalization(),\n",
    "    layers.Conv2D(512, (3, 3), activation='relu', padding='same', kernel_regularizer=regularizers.l2(0.01)),\n",
    "    layers.BatchNormalization(),\n",
    "    layers.MaxPooling2D((2, 2)),\n",
    "    layers.Flatten(),\n",
    "    layers.Dense(4096, activation='relu', kernel_regularizer=regularizers.l2(0.01)),\n",
    "    layers.BatchNormalization(),\n",
    "    layers.Dense(4096, activation='relu', kernel_regularizer=regularizers.l2(0.01)),\n",
    "    layers.BatchNormalization(),\n",
    "    layers.Dense(4096, activation='relu', kernel_regularizer=regularizers.l2(0.01)),\n",
    "    layers.BatchNormalization(),\n",
    "    layers.Dense(len(class_names), activation='softmax'),\n",
    "])"
   ]
  },
  {
   "cell_type": "code",
   "execution_count": 55,
   "metadata": {},
   "outputs": [
    {
     "name": "stdout",
     "output_type": "stream",
     "text": [
      "Model: \"sequential_9\"\n",
      "_________________________________________________________________\n",
      " Layer (type)                Output Shape              Param #   \n",
      "=================================================================\n",
      " sequential_8 (Sequential)   (None, 224, 224, 3)       0         \n",
      "                                                                 \n",
      " conv2d_75 (Conv2D)          (None, 224, 224, 64)      1792      \n",
      "                                                                 \n",
      " batch_normalization_93 (Bat  (None, 224, 224, 64)     256       \n",
      " chNormalization)                                                \n",
      "                                                                 \n",
      " conv2d_76 (Conv2D)          (None, 224, 224, 64)      36928     \n",
      "                                                                 \n",
      " batch_normalization_94 (Bat  (None, 224, 224, 64)     256       \n",
      " chNormalization)                                                \n",
      "                                                                 \n",
      " max_pooling2d_29 (MaxPoolin  (None, 112, 112, 64)     0         \n",
      " g2D)                                                            \n",
      "                                                                 \n",
      " conv2d_77 (Conv2D)          (None, 112, 112, 128)     73856     \n",
      "                                                                 \n",
      " batch_normalization_95 (Bat  (None, 112, 112, 128)    512       \n",
      " chNormalization)                                                \n",
      "                                                                 \n",
      " conv2d_78 (Conv2D)          (None, 112, 112, 128)     147584    \n",
      "                                                                 \n",
      " batch_normalization_96 (Bat  (None, 112, 112, 128)    512       \n",
      " chNormalization)                                                \n",
      "                                                                 \n",
      " max_pooling2d_30 (MaxPoolin  (None, 56, 56, 128)      0         \n",
      " g2D)                                                            \n",
      "                                                                 \n",
      " conv2d_79 (Conv2D)          (None, 56, 56, 256)       295168    \n",
      "                                                                 \n",
      " batch_normalization_97 (Bat  (None, 56, 56, 256)      1024      \n",
      " chNormalization)                                                \n",
      "                                                                 \n",
      " conv2d_80 (Conv2D)          (None, 56, 56, 256)       590080    \n",
      "                                                                 \n",
      " batch_normalization_98 (Bat  (None, 56, 56, 256)      1024      \n",
      " chNormalization)                                                \n",
      "                                                                 \n",
      " conv2d_81 (Conv2D)          (None, 56, 56, 256)       590080    \n",
      "                                                                 \n",
      " batch_normalization_99 (Bat  (None, 56, 56, 256)      1024      \n",
      " chNormalization)                                                \n",
      "                                                                 \n",
      " max_pooling2d_31 (MaxPoolin  (None, 28, 28, 256)      0         \n",
      " g2D)                                                            \n",
      "                                                                 \n",
      " conv2d_82 (Conv2D)          (None, 28, 28, 512)       1180160   \n",
      "                                                                 \n",
      " batch_normalization_100 (Ba  (None, 28, 28, 512)      2048      \n",
      " tchNormalization)                                               \n",
      "                                                                 \n",
      " conv2d_83 (Conv2D)          (None, 28, 28, 512)       2359808   \n",
      "                                                                 \n",
      " batch_normalization_101 (Ba  (None, 28, 28, 512)      2048      \n",
      " tchNormalization)                                               \n",
      "                                                                 \n",
      " conv2d_84 (Conv2D)          (None, 28, 28, 512)       2359808   \n",
      "                                                                 \n",
      " batch_normalization_102 (Ba  (None, 28, 28, 512)      2048      \n",
      " tchNormalization)                                               \n",
      "                                                                 \n",
      " max_pooling2d_32 (MaxPoolin  (None, 14, 14, 512)      0         \n",
      " g2D)                                                            \n",
      "                                                                 \n",
      " conv2d_85 (Conv2D)          (None, 14, 14, 512)       2359808   \n",
      "                                                                 \n",
      " batch_normalization_103 (Ba  (None, 14, 14, 512)      2048      \n",
      " tchNormalization)                                               \n",
      "                                                                 \n",
      " conv2d_86 (Conv2D)          (None, 14, 14, 512)       2359808   \n",
      "                                                                 \n",
      " batch_normalization_104 (Ba  (None, 14, 14, 512)      2048      \n",
      " tchNormalization)                                               \n",
      "                                                                 \n",
      " conv2d_87 (Conv2D)          (None, 14, 14, 512)       2359808   \n",
      "                                                                 \n",
      " batch_normalization_105 (Ba  (None, 14, 14, 512)      2048      \n",
      " tchNormalization)                                               \n",
      "                                                                 \n",
      " max_pooling2d_33 (MaxPoolin  (None, 7, 7, 512)        0         \n",
      " g2D)                                                            \n",
      "                                                                 \n",
      " flatten_6 (Flatten)         (None, 25088)             0         \n",
      "                                                                 \n",
      " dense_24 (Dense)            (None, 4096)              102764544 \n",
      "                                                                 \n",
      " batch_normalization_106 (Ba  (None, 4096)             16384     \n",
      " tchNormalization)                                               \n",
      "                                                                 \n",
      " dense_25 (Dense)            (None, 4096)              16781312  \n",
      "                                                                 \n",
      " batch_normalization_107 (Ba  (None, 4096)             16384     \n",
      " tchNormalization)                                               \n",
      "                                                                 \n",
      " dense_26 (Dense)            (None, 4096)              16781312  \n",
      "                                                                 \n",
      " batch_normalization_108 (Ba  (None, 4096)             16384     \n",
      " tchNormalization)                                               \n",
      "                                                                 \n",
      " dense_27 (Dense)            (None, 5)                 20485     \n",
      "                                                                 \n",
      "=================================================================\n",
      "Total params: 151,128,389\n",
      "Trainable params: 151,095,365\n",
      "Non-trainable params: 33,024\n",
      "_________________________________________________________________\n"
     ]
    }
   ],
   "source": [
    "# Compile the improved model\n",
    "improved_model.compile(optimizer='adam',\n",
    "              loss='sparse_categorical_crossentropy',\n",
    "              metrics=['accuracy'])\n",
    "\n",
    "\n",
    "# Print the model summary\n",
    "improved_model.summary()"
   ]
  },
  {
   "cell_type": "code",
   "execution_count": 56,
   "metadata": {},
   "outputs": [
    {
     "name": "stdout",
     "output_type": "stream",
     "text": [
      "Epoch 1/20\n",
      "WARNING:tensorflow:Using a while_loop for converting RngReadAndSkip cause there is no registered converter for this op.\n",
      "WARNING:tensorflow:Using a while_loop for converting Bitcast cause there is no registered converter for this op.\n",
      "WARNING:tensorflow:Using a while_loop for converting Bitcast cause there is no registered converter for this op.\n",
      "WARNING:tensorflow:Using a while_loop for converting StatelessRandomUniformV2 cause there is no registered converter for this op.\n",
      "WARNING:tensorflow:Using a while_loop for converting ImageProjectiveTransformV3 cause there is no registered converter for this op.\n",
      "WARNING:tensorflow:Using a while_loop for converting RngReadAndSkip cause there is no registered converter for this op.\n",
      "WARNING:tensorflow:Using a while_loop for converting Bitcast cause there is no registered converter for this op.\n",
      "WARNING:tensorflow:Using a while_loop for converting Bitcast cause there is no registered converter for this op.\n",
      "WARNING:tensorflow:Using a while_loop for converting StatelessRandomUniformV2 cause there is no registered converter for this op.\n",
      "WARNING:tensorflow:Using a while_loop for converting ImageProjectiveTransformV3 cause there is no registered converter for this op.\n",
      "WARNING:tensorflow:Using a while_loop for converting RngReadAndSkip cause there is no registered converter for this op.\n",
      "WARNING:tensorflow:Using a while_loop for converting Bitcast cause there is no registered converter for this op.\n",
      "WARNING:tensorflow:Using a while_loop for converting Bitcast cause there is no registered converter for this op.\n",
      "WARNING:tensorflow:Using a while_loop for converting StatelessRandomUniformV2 cause there is no registered converter for this op.\n",
      "WARNING:tensorflow:Using a while_loop for converting ImageProjectiveTransformV3 cause there is no registered converter for this op.\n",
      "WARNING:tensorflow:Using a while_loop for converting RngReadAndSkip cause there is no registered converter for this op.\n",
      "WARNING:tensorflow:Using a while_loop for converting Bitcast cause there is no registered converter for this op.\n",
      "WARNING:tensorflow:Using a while_loop for converting Bitcast cause there is no registered converter for this op.\n",
      "WARNING:tensorflow:Using a while_loop for converting StatelessRandomUniformV2 cause there is no registered converter for this op.\n",
      "WARNING:tensorflow:Using a while_loop for converting ImageProjectiveTransformV3 cause there is no registered converter for this op.\n",
      "95/95 [==============================] - 2022s 21s/step - loss: 138.9229 - accuracy: 0.3158 - val_loss: 80.4222 - val_accuracy: 0.1775\n",
      "Epoch 2/20\n",
      "95/95 [==============================] - 1980s 21s/step - loss: 45.6391 - accuracy: 0.3631 - val_loss: 32.1682 - val_accuracy: 0.2284\n",
      "Epoch 3/20\n",
      "95/95 [==============================] - 1980s 21s/step - loss: 26.0634 - accuracy: 0.3658 - val_loss: 21.5087 - val_accuracy: 0.2438\n",
      "Epoch 4/20\n",
      "95/95 [==============================] - 1975s 21s/step - loss: 18.2191 - accuracy: 0.3787 - val_loss: 18.5977 - val_accuracy: 0.2160\n",
      "Epoch 5/20\n",
      "95/95 [==============================] - 1964s 21s/step - loss: 14.5915 - accuracy: 0.3803 - val_loss: 12.9963 - val_accuracy: 0.3148\n",
      "Epoch 6/20\n",
      "95/95 [==============================] - 1963s 21s/step - loss: 10.4453 - accuracy: 0.3568 - val_loss: 9.5532 - val_accuracy: 0.2500\n",
      "Epoch 7/20\n",
      "95/95 [==============================] - 1966s 21s/step - loss: 7.9233 - accuracy: 0.3731 - val_loss: 22.9690 - val_accuracy: 0.2932\n",
      "Epoch 8/20\n",
      "95/95 [==============================] - 1964s 21s/step - loss: 6.3532 - accuracy: 0.4002 - val_loss: 5.7702 - val_accuracy: 0.1667\n",
      "Epoch 9/20\n",
      "95/95 [==============================] - 1965s 21s/step - loss: 6.0117 - accuracy: 0.3456 - val_loss: 5.5909 - val_accuracy: 0.2037\n",
      "Epoch 10/20\n",
      "95/95 [==============================] - 1960s 21s/step - loss: 5.5698 - accuracy: 0.3042 - val_loss: 5.8654 - val_accuracy: 0.3148\n",
      "Epoch 11/20\n",
      "95/95 [==============================] - 1972s 21s/step - loss: 4.7289 - accuracy: 0.3542 - val_loss: 5.6932 - val_accuracy: 0.2299\n",
      "Epoch 12/20\n",
      "95/95 [==============================] - 1963s 21s/step - loss: 4.4244 - accuracy: 0.3486 - val_loss: 8.3715 - val_accuracy: 0.2454\n",
      "Epoch 13/20\n",
      "95/95 [==============================] - 1965s 21s/step - loss: 4.5749 - accuracy: 0.3310 - val_loss: 4.0227 - val_accuracy: 0.2315\n",
      "Epoch 14/20\n",
      "95/95 [==============================] - 1968s 21s/step - loss: 3.7859 - accuracy: 0.3717 - val_loss: 3.6667 - val_accuracy: 0.2006\n",
      "Epoch 15/20\n",
      "95/95 [==============================] - 1965s 21s/step - loss: 4.0605 - accuracy: 0.3807 - val_loss: 3.5116 - val_accuracy: 0.2222\n",
      "Epoch 16/20\n",
      "95/95 [==============================] - 1962s 21s/step - loss: 3.6251 - accuracy: 0.3519 - val_loss: 3.2933 - val_accuracy: 0.2407\n",
      "Epoch 17/20\n",
      "95/95 [==============================] - 1964s 21s/step - loss: 3.0964 - accuracy: 0.3820 - val_loss: 3.1979 - val_accuracy: 0.1898\n",
      "Epoch 18/20\n",
      "95/95 [==============================] - 1968s 21s/step - loss: 2.7850 - accuracy: 0.3883 - val_loss: 2.7961 - val_accuracy: 0.2840\n",
      "Epoch 19/20\n",
      "95/95 [==============================] - 1963s 21s/step - loss: 2.8575 - accuracy: 0.3651 - val_loss: 4.4700 - val_accuracy: 0.2824\n",
      "Epoch 20/20\n",
      "95/95 [==============================] - 1967s 21s/step - loss: 2.6561 - accuracy: 0.4105 - val_loss: 2.5616 - val_accuracy: 0.3781\n"
     ]
    }
   ],
   "source": [
    "# Training the model\n",
    "history = improved_model.fit(X_train, y_train, epochs=20, validation_data=(X_val, y_val), class_weight=class_weight_dict)"
   ]
  },
  {
   "cell_type": "code",
   "execution_count": 57,
   "metadata": {},
   "outputs": [],
   "source": [
    "improved_model.save('improved_model.h5')"
   ]
  },
  {
   "cell_type": "code",
   "execution_count": 8,
   "metadata": {},
   "outputs": [],
   "source": [
    "# Load the saved improved model to train for 25 more epochs\n",
    "improved_model = load_model('model.h5')"
   ]
  },
  {
   "cell_type": "code",
   "execution_count": 36,
   "metadata": {},
   "outputs": [
    {
     "name": "stdout",
     "output_type": "stream",
     "text": [
      "Epoch 1/25\n",
      "95/95 [==============================] - 1929s 20s/step - loss: 0.6923 - accuracy: 0.7686 - val_loss: 1.4817 - val_accuracy: 0.6003\n",
      "Epoch 2/25\n",
      "95/95 [==============================] - 1917s 20s/step - loss: 0.7864 - accuracy: 0.7468 - val_loss: 2.6426 - val_accuracy: 0.5278\n",
      "Epoch 3/25\n",
      "95/95 [==============================] - 3312s 35s/step - loss: 1.1579 - accuracy: 0.6359 - val_loss: 7.3028 - val_accuracy: 0.3904\n",
      "Epoch 4/25\n",
      "95/95 [==============================] - 1918s 20s/step - loss: 0.9607 - accuracy: 0.6534 - val_loss: 1.4312 - val_accuracy: 0.5895\n",
      "Epoch 5/25\n",
      "95/95 [==============================] - 1918s 20s/step - loss: 0.8267 - accuracy: 0.7190 - val_loss: 1.0758 - val_accuracy: 0.6512\n",
      "Epoch 6/25\n",
      "95/95 [==============================] - 1914s 20s/step - loss: 0.8157 - accuracy: 0.7339 - val_loss: 1.4508 - val_accuracy: 0.6065\n",
      "Epoch 7/25\n",
      "95/95 [==============================] - 1916s 20s/step - loss: 0.7389 - accuracy: 0.7742 - val_loss: 1.0281 - val_accuracy: 0.6497\n",
      "Epoch 8/25\n",
      "95/95 [==============================] - 1917s 20s/step - loss: 0.6663 - accuracy: 0.7925 - val_loss: 1.2219 - val_accuracy: 0.6327\n",
      "Epoch 9/25\n",
      "95/95 [==============================] - 1915s 20s/step - loss: 0.6702 - accuracy: 0.7997 - val_loss: 2.0675 - val_accuracy: 0.5957\n",
      "Epoch 10/25\n",
      "95/95 [==============================] - 1913s 20s/step - loss: 0.6237 - accuracy: 0.7848 - val_loss: 1.3095 - val_accuracy: 0.6667\n",
      "Epoch 11/25\n",
      "95/95 [==============================] - 1916s 20s/step - loss: 0.8260 - accuracy: 0.7680 - val_loss: 2.4891 - val_accuracy: 0.4861\n",
      "Epoch 12/25\n",
      "95/95 [==============================] - 1912s 20s/step - loss: 0.7676 - accuracy: 0.7554 - val_loss: 2.4003 - val_accuracy: 0.5309\n",
      "Epoch 13/25\n",
      "95/95 [==============================] - 1912s 20s/step - loss: 0.7824 - accuracy: 0.7514 - val_loss: 2.1436 - val_accuracy: 0.6003\n",
      "Epoch 14/25\n",
      "95/95 [==============================] - 1911s 20s/step - loss: 0.6801 - accuracy: 0.7633 - val_loss: 1.0597 - val_accuracy: 0.6574\n",
      "Epoch 15/25\n",
      "95/95 [==============================] - 1913s 20s/step - loss: 0.5741 - accuracy: 0.8060 - val_loss: 1.1463 - val_accuracy: 0.6481\n",
      "Epoch 16/25\n",
      "95/95 [==============================] - 1915s 20s/step - loss: 0.4903 - accuracy: 0.8368 - val_loss: 1.2229 - val_accuracy: 0.6713\n",
      "Epoch 17/25\n",
      "95/95 [==============================] - 1911s 20s/step - loss: 0.4767 - accuracy: 0.8401 - val_loss: 1.7964 - val_accuracy: 0.5972\n",
      "Epoch 18/25\n",
      "95/95 [==============================] - 1912s 20s/step - loss: 0.4706 - accuracy: 0.8593 - val_loss: 1.2990 - val_accuracy: 0.6312\n",
      "Epoch 19/25\n",
      "95/95 [==============================] - 1914s 20s/step - loss: 0.4607 - accuracy: 0.8481 - val_loss: 2.4026 - val_accuracy: 0.5093\n",
      "Epoch 20/25\n",
      "95/95 [==============================] - 1914s 20s/step - loss: 0.8954 - accuracy: 0.7203 - val_loss: 8.0726 - val_accuracy: 0.4059\n",
      "Epoch 21/25\n",
      "95/95 [==============================] - 1912s 20s/step - loss: 1.7183 - accuracy: 0.4535 - val_loss: 3.6236 - val_accuracy: 0.4043\n",
      "Epoch 22/25\n",
      "95/95 [==============================] - 1911s 20s/step - loss: 1.2393 - accuracy: 0.5968 - val_loss: 1.2139 - val_accuracy: 0.5185\n",
      "Epoch 23/25\n",
      "95/95 [==============================] - 1914s 20s/step - loss: 1.2451 - accuracy: 0.6455 - val_loss: 4.1017 - val_accuracy: 0.3380\n",
      "Epoch 24/25\n",
      "95/95 [==============================] - 4981s 53s/step - loss: 0.9770 - accuracy: 0.6700 - val_loss: 2.0511 - val_accuracy: 0.5170\n",
      "Epoch 25/25\n",
      "95/95 [==============================] - 1898s 20s/step - loss: 0.9296 - accuracy: 0.6832 - val_loss: 1.3152 - val_accuracy: 0.5509\n"
     ]
    }
   ],
   "source": [
    "# Training the model\n",
    "history = improved_model.fit(X_train, y_train, epochs=25, validation_data=(X_val, y_val), class_weight=class_weight_dict)"
   ]
  },
  {
   "cell_type": "code",
   "execution_count": 41,
   "metadata": {},
   "outputs": [
    {
     "data": {
      "image/png": "[encoded data removed]",
      "text/plain": [
       "<Figure size 800x800 with 2 Axes>"
      ]
     },
     "metadata": {},
     "output_type": "display_data"
    }
   ],
   "source": [
    "#Traing vs Validation set\n",
    "acc = history.history['accuracy']\n",
    "val_acc = history.history['val_accuracy']\n",
    "\n",
    "loss = history.history['loss']\n",
    "val_loss = history.history['val_loss']\n",
    "epochs_range = range(25)\n",
    "\n",
    "plt.figure(figsize=(8, 8))\n",
    "plt.subplot(1, 2, 1)\n",
    "plt.plot(epochs_range, acc, label='Training Accuracy')\n",
    "plt.plot(epochs_range, val_acc, label='Validation Accuracy')\n",
    "plt.legend(loc='lower right')\n",
    "plt.title('Training and Validation Accuracy')\n",
    "\n",
    "plt.subplot(1, 2, 2)\n",
    "plt.plot(epochs_range, loss, label='Training Loss')\n",
    "plt.plot(epochs_range, val_loss, label='Validation Loss')\n",
    "plt.legend(loc='upper right')\n",
    "plt.title('Training and Validation Loss')\n",
    "plt.show()"
   ]
  },
  {
   "cell_type": "code",
   "execution_count": 42,
   "metadata": {},
   "outputs": [],
   "source": [
    "improved_model.save('improved_model1.h5')"
   ]
  },
  {
   "cell_type": "code",
   "execution_count": null,
   "metadata": {},
   "outputs": [],
   "source": [
    "'''There is alot of fluctuations in the accuracy and loss of training and validation set. Overall the batchnorm and L2 regularization\n",
    "prevent overfitting but using it in combined manner is not working on our dataset. It just causing the model to oscillate back\n",
    "and forth.'''"
   ]
  },
  {
   "cell_type": "code",
   "execution_count": 44,
   "metadata": {},
   "outputs": [
    {
     "name": "stdout",
     "output_type": "stream",
     "text": [
      "4/4 [==============================] - 9s 2s/step\n"
     ]
    }
   ],
   "source": [
    "#Using the model image dataset to predict \n",
    "y_mobile_pred = improved_model.predict(X_mobile_test)\n",
    "y_mobile_pred_classes = np.argmax(y_mobile_pred, axis=1)"
   ]
  },
  {
   "cell_type": "code",
   "execution_count": 45,
   "metadata": {},
   "outputs": [
    {
     "name": "stdout",
     "output_type": "stream",
     "text": [
      "Mobile Pictures Test Accuracy: 0.5089285714285714\n"
     ]
    }
   ],
   "source": [
    "# Calculate accuracy for mobile dataset\n",
    "mobile_accuracy = accuracy_score(y_mobile_test, y_mobile_pred_classes)\n",
    "print(f\"Mobile Pictures Test Accuracy: {mobile_accuracy}\")"
   ]
  },
  {
   "cell_type": "code",
   "execution_count": null,
   "metadata": {},
   "outputs": [],
   "source": [
    "'''Lets try to incoorporate dropout in the baseline model'''"
   ]
  },
  {
   "cell_type": "code",
   "execution_count": 8,
   "metadata": {},
   "outputs": [],
   "source": [
    "# Data augmentation\n",
    "train_datagen = ImageDataGenerator(\n",
    "    rotation_range=20,\n",
    "    width_shift_range=0.2,\n",
    "    height_shift_range=0.2,\n",
    "    shear_range=0.2,\n",
    "    zoom_range=0.2,\n",
    "    horizontal_flip=True,\n",
    "    fill_mode='nearest'\n",
    ")\n",
    "\n",
    "# Create a sequential model\n",
    "model = models.Sequential([\n",
    "    layers.Conv2D(64, (3, 3), activation='relu', padding='same', input_shape=(224, 224, 3)),\n",
    "    layers.BatchNormalization(),\n",
    "    layers.Conv2D(64, (3, 3), activation='relu', padding='same'),\n",
    "    layers.BatchNormalization(),\n",
    "    layers.MaxPooling2D((2, 2)),\n",
    "    layers.Conv2D(128, (3, 3), activation='relu', padding='same'),\n",
    "    layers.BatchNormalization(),\n",
    "    layers.Conv2D(128, (3, 3), activation='relu', padding='same'),\n",
    "    layers.BatchNormalization(),\n",
    "    layers.MaxPooling2D((2, 2)),\n",
    "    layers.Conv2D(256, (3, 3), activation='relu', padding='same'),\n",
    "    layers.BatchNormalization(),\n",
    "    layers.Conv2D(256, (3, 3), activation='relu', padding='same'),\n",
    "    layers.BatchNormalization(),\n",
    "    layers.Conv2D(256, (3, 3), activation='relu', padding='same'),\n",
    "    layers.BatchNormalization(),\n",
    "    layers.MaxPooling2D((2, 2)),\n",
    "    layers.Conv2D(512, (3, 3), activation='relu', padding='same'),\n",
    "    layers.BatchNormalization(),\n",
    "    layers.Conv2D(512, (3, 3), activation='relu', padding='same'),\n",
    "    layers.BatchNormalization(),\n",
    "    layers.Conv2D(512, (3, 3), activation='relu', padding='same'),\n",
    "    layers.BatchNormalization(),\n",
    "    layers.MaxPooling2D((2, 2)),\n",
    "    layers.Conv2D(512, (3, 3), activation='relu', padding='same'),\n",
    "    layers.BatchNormalization(),\n",
    "    layers.Conv2D(512, (3, 3), activation='relu', padding='same'),\n",
    "    layers.BatchNormalization(),\n",
    "    layers.Conv2D(512, (3, 3), activation='relu', padding='same'),\n",
    "    layers.BatchNormalization(),\n",
    "    layers.MaxPooling2D((2, 2)),\n",
    "    layers.Flatten(),\n",
    "    layers.Dropout(0.5),  # Dropout for regularization\n",
    "    layers.Dense(4096, activation='relu'),\n",
    "    layers.Dropout(0.5),  # Dropout for regularization\n",
    "    layers.Dense(4096, activation='relu'),\n",
    "    layers.Dropout(0.5),  # Dropout for regularization\n",
    "    layers.Dense(4096, activation='relu'),\n",
    "    layers.Dense(len(class_names), activation='softmax')  \n",
    "])"
   ]
  },
  {
   "cell_type": "code",
   "execution_count": 9,
   "metadata": {},
   "outputs": [
    {
     "name": "stdout",
     "output_type": "stream",
     "text": [
      "Model: \"sequential\"\n",
      "_________________________________________________________________\n",
      " Layer (type)                Output Shape              Param #   \n",
      "=================================================================\n",
      " conv2d (Conv2D)             (None, 224, 224, 64)      1792      \n",
      "                                                                 \n",
      " batch_normalization (BatchN  (None, 224, 224, 64)     256       \n",
      " ormalization)                                                   \n",
      "                                                                 \n",
      " conv2d_1 (Conv2D)           (None, 224, 224, 64)      36928     \n",
      "                                                                 \n",
      " batch_normalization_1 (Batc  (None, 224, 224, 64)     256       \n",
      " hNormalization)                                                 \n",
      "                                                                 \n",
      " max_pooling2d (MaxPooling2D  (None, 112, 112, 64)     0         \n",
      " )                                                               \n",
      "                                                                 \n",
      " conv2d_2 (Conv2D)           (None, 112, 112, 128)     73856     \n",
      "                                                                 \n",
      " batch_normalization_2 (Batc  (None, 112, 112, 128)    512       \n",
      " hNormalization)                                                 \n",
      "                                                                 \n",
      " conv2d_3 (Conv2D)           (None, 112, 112, 128)     147584    \n",
      "                                                                 \n",
      " batch_normalization_3 (Batc  (None, 112, 112, 128)    512       \n",
      " hNormalization)                                                 \n",
      "                                                                 \n",
      " max_pooling2d_1 (MaxPooling  (None, 56, 56, 128)      0         \n",
      " 2D)                                                             \n",
      "                                                                 \n",
      " conv2d_4 (Conv2D)           (None, 56, 56, 256)       295168    \n",
      "                                                                 \n",
      " batch_normalization_4 (Batc  (None, 56, 56, 256)      1024      \n",
      " hNormalization)                                                 \n",
      "                                                                 \n",
      " conv2d_5 (Conv2D)           (None, 56, 56, 256)       590080    \n",
      "                                                                 \n",
      " batch_normalization_5 (Batc  (None, 56, 56, 256)      1024      \n",
      " hNormalization)                                                 \n",
      "                                                                 \n",
      " conv2d_6 (Conv2D)           (None, 56, 56, 256)       590080    \n",
      "                                                                 \n",
      " batch_normalization_6 (Batc  (None, 56, 56, 256)      1024      \n",
      " hNormalization)                                                 \n",
      "                                                                 \n",
      " max_pooling2d_2 (MaxPooling  (None, 28, 28, 256)      0         \n",
      " 2D)                                                             \n",
      "                                                                 \n",
      " conv2d_7 (Conv2D)           (None, 28, 28, 512)       1180160   \n",
      "                                                                 \n",
      " batch_normalization_7 (Batc  (None, 28, 28, 512)      2048      \n",
      " hNormalization)                                                 \n",
      "                                                                 \n",
      " conv2d_8 (Conv2D)           (None, 28, 28, 512)       2359808   \n",
      "                                                                 \n",
      " batch_normalization_8 (Batc  (None, 28, 28, 512)      2048      \n",
      " hNormalization)                                                 \n",
      "                                                                 \n",
      " conv2d_9 (Conv2D)           (None, 28, 28, 512)       2359808   \n",
      "                                                                 \n",
      " batch_normalization_9 (Batc  (None, 28, 28, 512)      2048      \n",
      " hNormalization)                                                 \n",
      "                                                                 \n",
      " max_pooling2d_3 (MaxPooling  (None, 14, 14, 512)      0         \n",
      " 2D)                                                             \n",
      "                                                                 \n",
      " conv2d_10 (Conv2D)          (None, 14, 14, 512)       2359808   \n",
      "                                                                 \n",
      " batch_normalization_10 (Bat  (None, 14, 14, 512)      2048      \n",
      " chNormalization)                                                \n",
      "                                                                 \n",
      " conv2d_11 (Conv2D)          (None, 14, 14, 512)       2359808   \n",
      "                                                                 \n",
      " batch_normalization_11 (Bat  (None, 14, 14, 512)      2048      \n",
      " chNormalization)                                                \n",
      "                                                                 \n",
      " conv2d_12 (Conv2D)          (None, 14, 14, 512)       2359808   \n",
      "                                                                 \n",
      " batch_normalization_12 (Bat  (None, 14, 14, 512)      2048      \n",
      " chNormalization)                                                \n",
      "                                                                 \n",
      " max_pooling2d_4 (MaxPooling  (None, 7, 7, 512)        0         \n",
      " 2D)                                                             \n",
      "                                                                 \n",
      " flatten (Flatten)           (None, 25088)             0         \n",
      "                                                                 \n",
      " dropout (Dropout)           (None, 25088)             0         \n",
      "                                                                 \n",
      " dense (Dense)               (None, 4096)              102764544 \n",
      "                                                                 \n",
      " dropout_1 (Dropout)         (None, 4096)              0         \n",
      "                                                                 \n",
      " dense_1 (Dense)             (None, 4096)              16781312  \n",
      "                                                                 \n",
      " dropout_2 (Dropout)         (None, 4096)              0         \n",
      "                                                                 \n",
      " dense_2 (Dense)             (None, 4096)              16781312  \n",
      "                                                                 \n",
      " dense_3 (Dense)             (None, 5)                 20485     \n",
      "                                                                 \n",
      "=================================================================\n",
      "Total params: 151,079,237\n",
      "Trainable params: 151,070,789\n",
      "Non-trainable params: 8,448\n",
      "_________________________________________________________________\n"
     ]
    }
   ],
   "source": [
    "# Compile the improved model\n",
    "model.compile(optimizer='adam',\n",
    "              loss='sparse_categorical_crossentropy',\n",
    "              metrics=['accuracy'])\n",
    "\n",
    "\n",
    "# Print the model summary\n",
    "model.summary()"
   ]
  },
  {
   "cell_type": "code",
   "execution_count": 10,
   "metadata": {},
   "outputs": [
    {
     "name": "stdout",
     "output_type": "stream",
     "text": [
      "Epoch 1/20\n",
      "94/94 [==============================] - 1978s 21s/step - loss: 9.3400 - accuracy: 0.2896 - val_loss: 2.1456 - val_accuracy: 0.2438\n",
      "Epoch 2/20\n",
      "94/94 [==============================] - 1957s 21s/step - loss: 1.4336 - accuracy: 0.4130 - val_loss: 1.7751 - val_accuracy: 0.2253\n",
      "Epoch 3/20\n",
      "94/94 [==============================] - 1950s 21s/step - loss: 1.3313 - accuracy: 0.4292 - val_loss: 1.6143 - val_accuracy: 0.2670\n",
      "Epoch 4/20\n",
      "94/94 [==============================] - 1950s 21s/step - loss: 1.2434 - accuracy: 0.4846 - val_loss: 1.6986 - val_accuracy: 0.2608\n",
      "Epoch 5/20\n",
      "94/94 [==============================] - 2478s 26s/step - loss: 1.2309 - accuracy: 0.4934 - val_loss: 1.5437 - val_accuracy: 0.3426\n",
      "Epoch 6/20\n",
      "94/94 [==============================] - 1951s 21s/step - loss: 1.2256 - accuracy: 0.4901 - val_loss: 1.2837 - val_accuracy: 0.4599\n",
      "Epoch 7/20\n",
      "94/94 [==============================] - 1948s 21s/step - loss: 1.1726 - accuracy: 0.5290 - val_loss: 1.1638 - val_accuracy: 0.5448\n",
      "Epoch 8/20\n",
      "94/94 [==============================] - 1947s 21s/step - loss: 1.1541 - accuracy: 0.5368 - val_loss: 1.2828 - val_accuracy: 0.4429\n",
      "Epoch 9/20\n",
      "94/94 [==============================] - 2103s 22s/step - loss: 1.0846 - accuracy: 0.5617 - val_loss: 1.3294 - val_accuracy: 0.5262\n",
      "Epoch 10/20\n",
      "94/94 [==============================] - 2143s 22s/step - loss: 1.0804 - accuracy: 0.5873 - val_loss: 1.0982 - val_accuracy: 0.6003\n",
      "Epoch 11/20\n",
      "94/94 [==============================] - 1946s 21s/step - loss: 1.0792 - accuracy: 0.5779 - val_loss: 1.2301 - val_accuracy: 0.5494\n",
      "Epoch 12/20\n",
      "94/94 [==============================] - 1947s 21s/step - loss: 1.0308 - accuracy: 0.5902 - val_loss: 1.0195 - val_accuracy: 0.6080\n",
      "Epoch 13/20\n",
      "94/94 [==============================] - 1947s 21s/step - loss: 1.0006 - accuracy: 0.6171 - val_loss: 1.4987 - val_accuracy: 0.5093\n",
      "Epoch 14/20\n",
      "94/94 [==============================] - 1945s 21s/step - loss: 0.9792 - accuracy: 0.6148 - val_loss: 1.0300 - val_accuracy: 0.6080\n",
      "Epoch 15/20\n",
      "94/94 [==============================] - 1946s 21s/step - loss: 0.9822 - accuracy: 0.6200 - val_loss: 1.3379 - val_accuracy: 0.5478\n",
      "Epoch 16/20\n",
      "94/94 [==============================] - 1949s 21s/step - loss: 0.9601 - accuracy: 0.6268 - val_loss: 0.9976 - val_accuracy: 0.6111\n",
      "Epoch 17/20\n",
      "94/94 [==============================] - 1947s 21s/step - loss: 0.9455 - accuracy: 0.6453 - val_loss: 2.2319 - val_accuracy: 0.4815\n",
      "Epoch 18/20\n",
      "94/94 [==============================] - 1948s 21s/step - loss: 0.9187 - accuracy: 0.6628 - val_loss: 1.0739 - val_accuracy: 0.6157\n",
      "Epoch 19/20\n",
      "94/94 [==============================] - 1946s 21s/step - loss: 0.8624 - accuracy: 0.6799 - val_loss: 1.3702 - val_accuracy: 0.5463\n",
      "Epoch 20/20\n",
      "54/94 [================>.............] - ETA: 13:07 - loss: 0.9160 - accuracy: 0.6616WARNING:tensorflow:Your input ran out of data; interrupting training. Make sure that your dataset or generator can generate at least `steps_per_epoch * epochs` batches (in this case, 1880 batches). You may need to use the repeat() function when building your dataset.\n",
      "94/94 [==============================] - 1156s 12s/step - loss: 0.9160 - accuracy: 0.6616 - val_loss: 1.2566 - val_accuracy: 0.5571\n"
     ]
    }
   ],
   "source": [
    "history = model.fit(X_train, y_train,\n",
    "                    steps_per_epoch=len(X_train)//32,\n",
    "                    epochs=20,\n",
    "                    validation_data=(X_val, y_val),class_weight=class_weight_dict)\n"
   ]
  },
  {
   "cell_type": "code",
   "execution_count": 11,
   "metadata": {},
   "outputs": [],
   "source": [
    "model.save('model_bn_dr.h5')"
   ]
  },
  {
   "cell_type": "code",
   "execution_count": 12,
   "metadata": {},
   "outputs": [
    {
     "data": {
      "image/png": "[encoded data removed]",
      "text/plain": [
       "<Figure size 800x800 with 2 Axes>"
      ]
     },
     "metadata": {},
     "output_type": "display_data"
    }
   ],
   "source": [
    "#Traing vs Validation set\n",
    "acc = history.history['accuracy']\n",
    "val_acc = history.history['val_accuracy']\n",
    "\n",
    "loss = history.history['loss']\n",
    "val_loss = history.history['val_loss']\n",
    "epochs_range = range(20)\n",
    "\n",
    "plt.figure(figsize=(8, 8))\n",
    "plt.subplot(1, 2, 1)\n",
    "plt.plot(epochs_range, acc, label='Training Accuracy')\n",
    "plt.plot(epochs_range, val_acc, label='Validation Accuracy')\n",
    "plt.legend(loc='lower right')\n",
    "plt.title('Training and Validation Accuracy')\n",
    "\n",
    "plt.subplot(1, 2, 2)\n",
    "plt.plot(epochs_range, loss, label='Training Loss')\n",
    "plt.plot(epochs_range, val_loss, label='Validation Loss')\n",
    "plt.legend(loc='upper right')\n",
    "plt.title('Training and Validation Loss')\n",
    "plt.show()"
   ]
  },
  {
   "cell_type": "code",
   "execution_count": null,
   "metadata": {},
   "outputs": [],
   "source": [
    "'''We can see using this model the accuracy increasing for training and validation set as well as loss decreasing for both\n",
    "the sets. Lets evaluate the result on testing dataset'''"
   ]
  },
  {
   "cell_type": "code",
   "execution_count": 22,
   "metadata": {},
   "outputs": [
    {
     "name": "stdout",
     "output_type": "stream",
     "text": [
      "19/19 [==============================] - 85s 4s/step\n",
      "\n",
      "Test Accuracy: 0.685%\n",
      "\n"
     ]
    }
   ],
   "source": [
    "# Evaluate the model on the testing set\n",
    "y_pred = model.predict(X_test)\n",
    "y_pred_classes = np.argmax(y_pred, axis=1)\n",
    "\n",
    "# Calculate accuracy\n",
    "accuracy = accuracy_score(y_test, y_pred_classes)\n",
    "print(f\"\\nTest Accuracy: {accuracy}%\\n\")\n",
    "\n",
    "'''The testing accuracy improves by using this model. With only 20 epochs the accuracy reaches 68%, whereas for base model\n",
    "which was trained with 30 epochs, it was 63%. Maybe training this further for few more epochs can improve the models performance\n",
    "more.'''"
   ]
  },
  {
   "cell_type": "code",
   "execution_count": null,
   "metadata": {},
   "outputs": [],
   "source": [
    "'''For transfer learning we can try using VGG16 or Resnet model.\n",
    "The convolutional layers can be frozen, and new fully connected layers can be added on top.\n",
    "Since we have a relatively small dataset for deep learning. \n",
    "In this case, it's often a good idea to use feature extraction while leveraging a pre-trained model.'''"
   ]
  },
  {
   "cell_type": "code",
   "execution_count": 23,
   "metadata": {},
   "outputs": [],
   "source": [
    "# Load the pre-trained VGG16 model without the top layers\n",
    "base_model = VGG16(weights='imagenet', include_top=False, input_shape=(224, 224, 3))\n",
    "\n",
    "# Freeze the convolutional layers\n",
    "for layer in base_model.layers:\n",
    "    layer.trainable = False\n",
    "\n",
    "# Create a sequential model\n",
    "model = models.Sequential([\n",
    "    base_model,\n",
    "    layers.Flatten(),\n",
    "    layers.Dense(256, activation='relu'),\n",
    "    layers.BatchNormalization(),\n",
    "    layers.Dropout(0.5),\n",
    "    layers.Dense(5, activation='softmax')  # Adjust the output units based on the number of flower classes\n",
    "])\n"
   ]
  },
  {
   "cell_type": "code",
   "execution_count": 24,
   "metadata": {},
   "outputs": [
    {
     "name": "stdout",
     "output_type": "stream",
     "text": [
      "Model: \"sequential_1\"\n",
      "_________________________________________________________________\n",
      " Layer (type)                Output Shape              Param #   \n",
      "=================================================================\n",
      " vgg16 (Functional)          (None, 7, 7, 512)         14714688  \n",
      "                                                                 \n",
      " flatten_1 (Flatten)         (None, 25088)             0         \n",
      "                                                                 \n",
      " dense_4 (Dense)             (None, 256)               6422784   \n",
      "                                                                 \n",
      " batch_normalization_13 (Bat  (None, 256)              1024      \n",
      " chNormalization)                                                \n",
      "                                                                 \n",
      " dropout_3 (Dropout)         (None, 256)               0         \n",
      "                                                                 \n",
      " dense_5 (Dense)             (None, 5)                 1285      \n",
      "                                                                 \n",
      "=================================================================\n",
      "Total params: 21,139,781\n",
      "Trainable params: 6,424,581\n",
      "Non-trainable params: 14,715,200\n",
      "_________________________________________________________________\n"
     ]
    }
   ],
   "source": [
    "\n",
    "# Compile the model\n",
    "model.compile(optimizer='adam', loss='categorical_crossentropy', metrics=['accuracy'])\n",
    "\n",
    "# Print the model summary\n",
    "model.summary()"
   ]
  },
  {
   "cell_type": "code",
   "execution_count": null,
   "metadata": {},
   "outputs": [],
   "source": [
    "'''Above model can be trained and tested for results, similarly we can also incorporate the Resnet model for transfer learning\n",
    "approach.'''"
   ]
  },
  {
   "cell_type": "code",
   "execution_count": null,
   "metadata": {},
   "outputs": [],
   "source": [
    "'''Overall, all the techniques mentioned above in the question has effects of improving your models performance,\n",
    "it just depends on where/how you have incoorporated them and the type of dataset you have and what type of model you are\n",
    "trying to implement. \n",
    "In this dataset incorporating batchnorm and dropout together increases the models efficiency whereas using L2\n",
    "regularization and batch norm doesnt give good training results.\n",
    "Another think which I noticed was placement of layers plays a very important role like placing dropout before batchnorm\n",
    "was increasing the model accuracy but also increasing the loss so I placed batchnorm layer before dropout layer.\n",
    "This approach works as illustrated above and we can see it increases the accuracy while simultaneouly reducing the loss.'''"
   ]
  }
 ],
 "metadata": {
  "kernelspec": {
   "display_name": "Python 3 (ipykernel)",
   "language": "python",
   "name": "python3"
  },
  "language_info": {
   "codemirror_mode": {
    "name": "ipython",
    "version": 3
   },
   "file_extension": ".py",
   "mimetype": "text/x-python",
   "name": "python",
   "nbconvert_exporter": "python",
   "pygments_lexer": "ipython3",
   "version": "3.11.4"
  },
  "vscode": {
   "interpreter": {
    "hash": "b161853c7d19821cf8c3b994c5a1758b94afdc9a803ae3b9957e0beb9382574d"
   }
  }
 },
 "nbformat": 4,
 "nbformat_minor": 2
}
